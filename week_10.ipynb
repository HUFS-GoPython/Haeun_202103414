{
 "cells": [
  {
   "cell_type": "markdown",
   "id": "a251e939-578e-43f9-b905-bccea93daec2",
   "metadata": {},
   "source": [
    "### 객체와 클래스\n",
    "- object ??\n",
    "- 객체지향프로그래밍\n",
    "- 속성과 행동을 가지는 개념, 실존하는 물체?\n",
    "\n",
    "    - 예: 자동차, 강아지, 꽃 ...thing\n",
    "    - 속성: 브랜드, 색, 속도, 모델, .. (자동차)\n",
    "        - 이름, 종, 색, 무게, .. (강아지)\n",
    "    - 행동: 가다, 서다, 회전, 주차, .. (자동차)\n",
    "        - 뛰다, 짖다, 자다, 핥다, .. (강아지)\n",
    "- 편의점 => \"고객이 편의점에서 과자를 샀다\" => 고객 => 사람, 편의점, 과자 => 물건\n",
    "\n",
    "  - 이름, 돈          - 재고, 수익        -이름, 브랜드, 가격\n",
    "  - 물건 사다, 돈 내다   - 팔다, 수익 남기다, 물건 등록    - X\n",
    "  => 상호작용으로 코드를 구성하는 것\n",
    "\n",
    "- 첫 글자 대문자\n",
    "- nice car -> Nice_car (x)\n",
    "- camel 표기법(낙타 등 처럼) NiceCar (O)\n",
    "\n",
    "- 정의부, 선언부\n",
    "\n",
    "    - 정의부 = 붕어빵 틀\n",
    "    - 선언부 = 붕어빵"
   ]
  },
  {
   "cell_type": "code",
   "execution_count": 1,
   "id": "9f6aa094-dae0-4b74-aeba-a57657b5f946",
   "metadata": {},
   "outputs": [
    {
     "data": {
      "text/plain": [
       "<__main__.Car at 0x7ff3d1456ac0>"
      ]
     },
     "execution_count": 1,
     "metadata": {},
     "output_type": "execute_result"
    }
   ],
   "source": [
    "# 정의부\n",
    "class Car: \n",
    "    pass # 아무 설정하지 않을 시 pass\n",
    "\n",
    "# 선언부\n",
    "my_car = Car()\n",
    "my_car #instance -> 붕어빵"
   ]
  },
  {
   "cell_type": "code",
   "execution_count": 2,
   "id": "2b420ca5-7b20-4c6c-8125-80498f5062f7",
   "metadata": {},
   "outputs": [],
   "source": [
    "my_car.name = 'bmw' \n",
    "my_car.color = 'white'"
   ]
  },
  {
   "cell_type": "code",
   "execution_count": 3,
   "id": "ffa91c46-d449-4e71-9806-32dcbc8c5519",
   "metadata": {},
   "outputs": [
    {
     "data": {
      "text/plain": [
       "'bmw'"
      ]
     },
     "execution_count": 3,
     "metadata": {},
     "output_type": "execute_result"
    }
   ],
   "source": [
    "my_car.name"
   ]
  },
  {
   "cell_type": "code",
   "execution_count": 4,
   "id": "573c61b6-1955-4aa4-82f0-705203c4349a",
   "metadata": {},
   "outputs": [],
   "source": [
    "#이 방법은 수정이 어렵다는 단점이 있음\n",
    "\n",
    "class Car:\n",
    "    name = 'BMW'\n",
    "    "
   ]
  },
  {
   "cell_type": "code",
   "execution_count": 5,
   "id": "678a9c51-ab5a-4571-9e2a-a654ce9b5c03",
   "metadata": {},
   "outputs": [],
   "source": [
    "your_car = Car()"
   ]
  },
  {
   "cell_type": "code",
   "execution_count": 6,
   "id": "166d4f91-d04f-4d14-b9dc-d17d08740569",
   "metadata": {},
   "outputs": [
    {
     "data": {
      "text/plain": [
       "'BMW'"
      ]
     },
     "execution_count": 6,
     "metadata": {},
     "output_type": "execute_result"
    }
   ],
   "source": [
    "your_car.name\n",
    "\n"
   ]
  },
  {
   "cell_type": "code",
   "execution_count": 7,
   "id": "0b08cd92-b3fd-41da-b5d0-b3a3b53887f2",
   "metadata": {},
   "outputs": [
    {
     "data": {
      "text/plain": [
       "'Kia'"
      ]
     },
     "execution_count": 7,
     "metadata": {},
     "output_type": "execute_result"
    }
   ],
   "source": [
    "your_car.name = 'Kia'\n",
    "your_car.name"
   ]
  },
  {
   "cell_type": "code",
   "execution_count": 11,
   "id": "7cfc412e-1bd4-48a0-ba8d-d2c3b6640004",
   "metadata": {},
   "outputs": [],
   "source": [
    "#2. 좀 더 편하게 바꾸기\n",
    "# __init__ 이용하기\n",
    "class Car:\n",
    "    def __init__(self, name): #속성 초기화 함수 self 먼저 쓰기\n",
    "        self.name = name"
   ]
  },
  {
   "cell_type": "code",
   "execution_count": 12,
   "id": "a5edf3e7-4bbe-4716-8a42-9d6f943e8a8a",
   "metadata": {},
   "outputs": [],
   "source": [
    "her_car = Car(name = 'Hyundai')"
   ]
  },
  {
   "cell_type": "code",
   "execution_count": 13,
   "id": "b13719ae-de51-4b59-a24b-800682eeeffa",
   "metadata": {},
   "outputs": [
    {
     "data": {
      "text/plain": [
       "'Hyundai'"
      ]
     },
     "execution_count": 13,
     "metadata": {},
     "output_type": "execute_result"
    }
   ],
   "source": [
    "her_car.name"
   ]
  },
  {
   "cell_type": "code",
   "execution_count": 14,
   "id": "f76824c1-01b1-4b43-8af4-a58108c7f773",
   "metadata": {},
   "outputs": [
    {
     "data": {
      "text/plain": [
       "'Toyota'"
      ]
     },
     "execution_count": 14,
     "metadata": {},
     "output_type": "execute_result"
    }
   ],
   "source": [
    "car2 = Car('Toyota')\n",
    "car2.name"
   ]
  },
  {
   "cell_type": "code",
   "execution_count": 15,
   "id": "4305931a-e99d-42de-9fbd-a33fed9ee351",
   "metadata": {},
   "outputs": [],
   "source": [
    "class Car:\n",
    "    def __init__(self, name, model, color): # 이름, 모델, 색 추가\n",
    "        self.name = name\n",
    "        self.model = model\n",
    "        self.color = color\n",
    "    \n",
    "    def drive(self): #차 출발하는 행동 추가 \n",
    "        # {차 이름}가 출발합니다\n",
    "        print(f'{self.name}가 출발합니다')\n",
    "    \n",
    "    def stop(self): #차 멈추는 행동 추가\n",
    "        print('차가 섭니다')\n",
    "        \n",
    "    def change_color(self): #색 바꾸는 행동 추가 \n",
    "        # gray로 바꾼다\n",
    "        self.color = 'gray'\n",
    "car3 = Car('Kia', 'K3', 'White')"
   ]
  },
  {
   "cell_type": "code",
   "execution_count": 16,
   "id": "a65b72d6-b4cf-4194-ba3d-d2e7a45763e4",
   "metadata": {},
   "outputs": [
    {
     "name": "stdout",
     "output_type": "stream",
     "text": [
      "Kia가 출발합니다\n"
     ]
    }
   ],
   "source": [
    "car3.drive() "
   ]
  },
  {
   "cell_type": "code",
   "execution_count": 17,
   "id": "b725863d-96ca-4889-80da-5ff77667c696",
   "metadata": {},
   "outputs": [
    {
     "data": {
      "text/plain": [
       "'gray'"
      ]
     },
     "execution_count": 17,
     "metadata": {},
     "output_type": "execute_result"
    }
   ],
   "source": [
    "car3.change_color()\n",
    "car3.color"
   ]
  },
  {
   "cell_type": "code",
   "execution_count": 18,
   "id": "17123da6-5849-4416-9414-d23a246a9dea",
   "metadata": {},
   "outputs": [],
   "source": [
    "'gray'\n",
    "class Car:\n",
    "    def __init__(self, name, model = None, color = 'black'):\n",
    "        #color가 들어오면 그 값으로 설정하고 들어오지 않으면 black으로 설정하기\n",
    "        # model 값이 들어오면 그 값, 아니라면 none값\n",
    "        self.name = name\n",
    "        self.model = model\n",
    "        self.color = color\n",
    "    \n",
    "    def drive(self):\n",
    "        # {차 이름}가 출발합니다\n",
    "        print(f'{self.name}가 출발합니다')\n",
    "    \n",
    "    def stop(self):\n",
    "        print('차가 섭니다')\n",
    "        \n",
    "    def change_color(self,color):\n",
    "        #color 값 받아서 그 색으로 변경하기 \n",
    "        self.color = color"
   ]
  },
  {
   "cell_type": "code",
   "execution_count": 19,
   "id": "4f9e0963-5768-45f2-9435-d4db22a52151",
   "metadata": {},
   "outputs": [],
   "source": [
    "car4 = Car('Samsung','SM6', 'white')\n",
    "car4.change_color('gray')"
   ]
  },
  {
   "cell_type": "code",
   "execution_count": 20,
   "id": "36c99105-77b2-4da7-b96c-f3fb2cfc43ef",
   "metadata": {},
   "outputs": [
    {
     "data": {
      "text/plain": [
       "'~~'"
      ]
     },
     "execution_count": 20,
     "metadata": {},
     "output_type": "execute_result"
    }
   ],
   "source": [
    "car = Car('Porche')\n",
    "car.model = '~~'\n",
    "car.model"
   ]
  },
  {
   "cell_type": "markdown",
   "id": "e8d2f709-f879-42f4-8a15-4a9d11f35f5e",
   "metadata": {},
   "source": [
    "### 캡슐화, 정보 은닉\n",
    "- public -> private\n",
    "- getter, setter"
   ]
  },
  {
   "cell_type": "code",
   "execution_count": 21,
   "id": "158fbd9e-9654-49fd-be4c-443bbc3f51df",
   "metadata": {},
   "outputs": [
    {
     "data": {
      "text/plain": [
       "'red'"
      ]
     },
     "execution_count": 21,
     "metadata": {},
     "output_type": "execute_result"
    }
   ],
   "source": [
    "class Fruit:\n",
    "    color = 'red'\n",
    "\n",
    "kiwi = Fruit()\n",
    "kiwi.color"
   ]
  },
  {
   "cell_type": "code",
   "execution_count": 22,
   "id": "1b5fd56d-f887-43fa-b25a-eaebcc059fdc",
   "metadata": {},
   "outputs": [],
   "source": [
    "Fruit.color = 'black' "
   ]
  },
  {
   "cell_type": "code",
   "execution_count": 23,
   "id": "0fbd30f6-1e8e-447f-8a1a-d1b9b4e87d66",
   "metadata": {},
   "outputs": [
    {
     "data": {
      "text/plain": [
       "'black'"
      ]
     },
     "execution_count": 23,
     "metadata": {},
     "output_type": "execute_result"
    }
   ],
   "source": [
    "apple = Fruit()\n",
    "apple.color"
   ]
  },
  {
   "cell_type": "markdown",
   "id": "f2b89fbe-93e9-4e4e-88f3-d1b32b32cc3a",
   "metadata": {},
   "source": [
    "#### get, set\n",
    "- getter: 클래스 내 객체 변수 반환\n",
    "- setter: 클래스 내 객체 변수 설정"
   ]
  },
  {
   "cell_type": "code",
   "execution_count": 25,
   "id": "53c6a830-1d0b-4686-9e69-67f626451248",
   "metadata": {},
   "outputs": [],
   "source": [
    "class Car:\n",
    "    def __init__(self, input_name):\n",
    "        self.name = input_name\n",
    "    \n",
    "    def get_name(self):\n",
    "        return self.name\n",
    "    \n",
    "    def set_name(self, input_name):\n",
    "        self.name = input_name\n",
    "\n",
    "c = Car('name1')"
   ]
  },
  {
   "cell_type": "code",
   "execution_count": 26,
   "id": "07197a9d-769d-46bb-8c28-20b646b3871c",
   "metadata": {},
   "outputs": [
    {
     "data": {
      "text/plain": [
       "'name1'"
      ]
     },
     "execution_count": 26,
     "metadata": {},
     "output_type": "execute_result"
    }
   ],
   "source": [
    "c.get_name()"
   ]
  },
  {
   "cell_type": "code",
   "execution_count": 27,
   "id": "df9e8aeb-f1e5-4e3f-bea5-ac0df3255058",
   "metadata": {},
   "outputs": [
    {
     "data": {
      "text/plain": [
       "'name2'"
      ]
     },
     "execution_count": 27,
     "metadata": {},
     "output_type": "execute_result"
    }
   ],
   "source": [
    "c.set_name('name2')\n",
    "c.name"
   ]
  },
  {
   "cell_type": "code",
   "execution_count": 28,
   "id": "5d38977e-2a61-4127-b7ad-00b787b971a8",
   "metadata": {},
   "outputs": [
    {
     "data": {
      "text/plain": [
       "'name3'"
      ]
     },
     "execution_count": 28,
     "metadata": {},
     "output_type": "execute_result"
    }
   ],
   "source": [
    "c.name = 'name3'\n",
    "c.name"
   ]
  },
  {
   "cell_type": "markdown",
   "id": "b8ee1e13-c1b1-4c54-b0c8-68326e465662",
   "metadata": {},
   "source": [
    "#### 2. property() 이용하기!"
   ]
  },
  {
   "cell_type": "code",
   "execution_count": 29,
   "id": "0ba1cd11-1ba1-48ff-a6a9-fe6bcf9adb0e",
   "metadata": {},
   "outputs": [
    {
     "data": {
      "text/plain": [
       "'name_1'"
      ]
     },
     "execution_count": 29,
     "metadata": {},
     "output_type": "execute_result"
    }
   ],
   "source": [
    "class Car:\n",
    "    def __init__(self, input_name):\n",
    "        self.hidden_name = input_name\n",
    "    \n",
    "    def get_name(self):\n",
    "        #변수 반환\n",
    "        return self.hidden_name\n",
    "    \n",
    "    def set_name(self, input_name):\n",
    "        self.hidden_name = input_name\n",
    "    \n",
    "    name = property(get_name, set_name)\n",
    "    \n",
    "d = Car('name_1')\n",
    "d.name"
   ]
  },
  {
   "cell_type": "markdown",
   "id": "1c53e07f-6bc9-4245-b7da-0388974918d9",
   "metadata": {},
   "source": [
    "#### 3. @property, @.setter (decorater)"
   ]
  },
  {
   "cell_type": "code",
   "execution_count": 30,
   "id": "91284472-dac3-43ec-9638-7b6e09be6cf7",
   "metadata": {},
   "outputs": [],
   "source": [
    "class Car:\n",
    "    def __init__(self, input_name):\n",
    "        self.hidden_name = input_name\n",
    "    @property\n",
    "    def name(self):\n",
    "        #변수 반환\n",
    "        return self.hidden_name\n",
    "   \n",
    "    @name.setter\n",
    "    def name(self, input_name):\n",
    "        self.hidden_name = input_name"
   ]
  },
  {
   "cell_type": "code",
   "execution_count": 31,
   "id": "2ace971a-cfb9-4c1d-b5f7-991f5b87533c",
   "metadata": {},
   "outputs": [
    {
     "data": {
      "text/plain": [
       "'name a'"
      ]
     },
     "execution_count": 31,
     "metadata": {},
     "output_type": "execute_result"
    }
   ],
   "source": [
    "e = Car('name a')\n",
    "e.name"
   ]
  },
  {
   "cell_type": "code",
   "execution_count": 32,
   "id": "17bf3d5c-fc06-44ce-befc-22c6c2ad872d",
   "metadata": {},
   "outputs": [
    {
     "data": {
      "text/plain": [
       "'name a'"
      ]
     },
     "execution_count": 32,
     "metadata": {},
     "output_type": "execute_result"
    }
   ],
   "source": [
    "e.hidden_name"
   ]
  },
  {
   "cell_type": "markdown",
   "id": "6d93ebf1-dfa2-4538-9eaa-a29dea2e8236",
   "metadata": {},
   "source": [
    "#### 4. __~~~ 이용하면 접근 아예 막을수 있음"
   ]
  },
  {
   "cell_type": "code",
   "execution_count": 34,
   "id": "d4cda173-c26e-4745-9922-0011e9835e63",
   "metadata": {},
   "outputs": [],
   "source": [
    "class Car:\n",
    "    def __init__(self, input_name):\n",
    "        self.__name = input_name\n",
    "    @property\n",
    "    def name(self):\n",
    "        #변수 반환\n",
    "        return self.__name\n",
    "   \n",
    "    @name.setter\n",
    "    def name(self, input_name):\n",
    "        self.__name = input_name"
   ]
  },
  {
   "cell_type": "code",
   "execution_count": 35,
   "id": "14a3cb01-1e30-40ac-86fa-945a9192d550",
   "metadata": {},
   "outputs": [
    {
     "ename": "AttributeError",
     "evalue": "'Car' object has no attribute '__name'",
     "output_type": "error",
     "traceback": [
      "\u001b[0;31m---------------------------------------------------------------------------\u001b[0m",
      "\u001b[0;31mAttributeError\u001b[0m                            Traceback (most recent call last)",
      "\u001b[0;32m/var/folders/hw/1ktzsq7s1w14xc35sfjzdtg80000gn/T/ipykernel_42740/229484777.py\u001b[0m in \u001b[0;36m<module>\u001b[0;34m\u001b[0m\n\u001b[1;32m      1\u001b[0m \u001b[0mf\u001b[0m \u001b[0;34m=\u001b[0m \u001b[0mCar\u001b[0m\u001b[0;34m(\u001b[0m\u001b[0;34m'name b'\u001b[0m\u001b[0;34m)\u001b[0m\u001b[0;34m\u001b[0m\u001b[0;34m\u001b[0m\u001b[0m\n\u001b[0;32m----> 2\u001b[0;31m \u001b[0mf\u001b[0m\u001b[0;34m.\u001b[0m\u001b[0m__name\u001b[0m\u001b[0;34m\u001b[0m\u001b[0;34m\u001b[0m\u001b[0m\n\u001b[0m",
      "\u001b[0;31mAttributeError\u001b[0m: 'Car' object has no attribute '__name'"
     ]
    }
   ],
   "source": [
    "f = Car('name b')\n",
    "f.__name"
   ]
  },
  {
   "cell_type": "code",
   "execution_count": 36,
   "id": "5aca237b-9a50-46a0-847c-74d7fb16e86e",
   "metadata": {},
   "outputs": [
    {
     "data": {
      "text/plain": [
       "10"
      ]
     },
     "execution_count": 36,
     "metadata": {},
     "output_type": "execute_result"
    }
   ],
   "source": [
    "class Circle:\n",
    "    def __init__(self, radius):\n",
    "        self.radius = radius\n",
    "        \n",
    "    @property    \n",
    "    def parameter(self):\n",
    "        return self.radius * 2\n",
    "    \n",
    "ex = Circle(5)\n",
    "ex.parameter"
   ]
  },
  {
   "cell_type": "code",
   "execution_count": 37,
   "id": "79f15c27-6925-469d-9f6d-ba280c05ae1e",
   "metadata": {},
   "outputs": [
    {
     "data": {
      "text/plain": [
       "38"
      ]
     },
     "execution_count": 37,
     "metadata": {},
     "output_type": "execute_result"
    }
   ],
   "source": [
    "ex.radius = 19\n",
    "ex.parameter"
   ]
  },
  {
   "cell_type": "markdown",
   "id": "5869ae5b-42af-4a4e-acd2-9a3940cf812a",
   "metadata": {},
   "source": [
    "#### 실습\n",
    "- 메모장, 메모 구현하기\n",
    "- 메모장\n",
    "    - 속성: 제목, 페이지번호, 메모\n",
    "    - 메모 추가하다, 메모 삭제하다, 페이지번호 확인하다\n",
    "- 메모\n",
    "\n",
    "    - 속성: 글귀\n",
    "    - 행동: 쓰다, 지우다\n",
    "- 사용:\n",
    "\n",
    "    - 메모 쓰다\n",
    "    - 메모장에 추가\n",
    "    - 페이지 번호가 늘어나다\n",
    "    - 메모 삭제\n",
    "    - 페이지 번호 줄어든다\n",
    "    - 메모장 > 제목만 은닉"
   ]
  },
  {
   "cell_type": "code",
   "execution_count": null,
   "id": "7972b0a4-c881-410b-b3bf-a33264647007",
   "metadata": {},
   "outputs": [],
   "source": []
  },
  {
   "cell_type": "code",
   "execution_count": null,
   "id": "077f0e0b-90a4-4f0f-b115-7d8d4dbca35d",
   "metadata": {},
   "outputs": [],
   "source": []
  }
 ],
 "metadata": {
  "kernelspec": {
   "display_name": "Python 3 (ipykernel)",
   "language": "python",
   "name": "python3"
  },
  "language_info": {
   "codemirror_mode": {
    "name": "ipython",
    "version": 3
   },
   "file_extension": ".py",
   "mimetype": "text/x-python",
   "name": "python",
   "nbconvert_exporter": "python",
   "pygments_lexer": "ipython3",
   "version": "3.9.7"
  }
 },
 "nbformat": 4,
 "nbformat_minor": 5
}
