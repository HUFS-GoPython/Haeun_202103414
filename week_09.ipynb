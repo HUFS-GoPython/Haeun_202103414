{
 "cells": [
  {
   "cell_type": "markdown",
   "id": "b64f26af-d4b9-4129-97d4-e34da5f03526",
   "metadata": {},
   "source": [
    "## Dictionary\n",
    "- 영어 사전\n",
    "    - 단어: 뜻\n",
    "    - 키: 값\n",
    "    - 순서가 없다. => 인덱싱 불가능\n",
    "    - \"키로 값을 찾는다.\" -> 중요한 점\n",
    "        - 키는 중복되지 않는 고유한 값\n",
    "    - 가변: 수정, 삭제, 추가, 가능\n",
    "    - 타입: dict\n",
    "    - 형변환: 'dict()'\n",
    "    - 중고라호 사용 {}, 콤마로 구분됨\n",
    "    - 값에 다양한 자료구조가 올 수 있음\n",
    "        - a: 1, a:[1,2,3,4]"
   ]
  },
  {
   "cell_type": "code",
   "execution_count": 1,
   "id": "b19d6b3e-0e7c-40af-9497-d93b1ea1885e",
   "metadata": {},
   "outputs": [
    {
     "data": {
      "text/plain": [
       "1"
      ]
     },
     "execution_count": 1,
     "metadata": {},
     "output_type": "execute_result"
    }
   ],
   "source": [
    "a = [1, 2, 3]\n",
    "a[0]"
   ]
  },
  {
   "cell_type": "code",
   "execution_count": 3,
   "id": "5927ff02-9d6d-4a11-95e5-317c1d4ccc55",
   "metadata": {},
   "outputs": [
    {
     "data": {
      "text/plain": [
       "dict"
      ]
     },
     "execution_count": 3,
     "metadata": {},
     "output_type": "execute_result"
    }
   ],
   "source": [
    "empty = dict()\n",
    "empty = {}\n",
    "#set {}\n",
    "empty = {} #dict type\n",
    "emty = set()\n",
    "type(empty)"
   ]
  },
  {
   "cell_type": "code",
   "execution_count": 4,
   "id": "aa929863-e8e2-418c-8bdd-bf2b7ecc5c23",
   "metadata": {},
   "outputs": [
    {
     "data": {
      "text/plain": [
       "{1: 'apple', 2: 'banana', 3: 'kiwi'}"
      ]
     },
     "execution_count": 4,
     "metadata": {},
     "output_type": "execute_result"
    }
   ],
   "source": [
    "a = {1, 2, 3} #set\n",
    "a = {1: 'apple', 2: 'banana', 3:'kiwi'} #dict\n",
    "a"
   ]
  },
  {
   "cell_type": "code",
   "execution_count": 5,
   "id": "34c639c7-dec0-4daf-a3b6-194132e794ba",
   "metadata": {},
   "outputs": [
    {
     "data": {
      "text/plain": [
       "{'apple': 'a', 'banana': 'b', 'kiwi': 'c'}"
      ]
     },
     "execution_count": 5,
     "metadata": {},
     "output_type": "execute_result"
    }
   ],
   "source": [
    "b = {'':'', '': '', '':''}\n",
    "b = dict(apple='a', banana='b', kiwi='c')\n",
    "b"
   ]
  },
  {
   "cell_type": "code",
   "execution_count": null,
   "id": "65d9bad6-343f-41d1-9453-ee8a37913d07",
   "metadata": {},
   "outputs": [],
   "source": [
    "#출석부로 딕셔너리 만들기\n",
    "이름, 학번=key, 학과\n",
    "james 202201 경제학과\n",
    "laura 202203 스페인어과\n",
    "louis 202202 컴공과\n",
    "\n",
    "{202201:['james', '경제학과'], 202203:['laura', '스페인어과'], 202202:['louis', '컴공과']}"
   ]
  },
  {
   "cell_type": "markdown",
   "id": "8b298cc6-9bb7-4e9d-9f52-7756ce538c17",
   "metadata": {},
   "source": [
    "### 형변환"
   ]
  },
  {
   "cell_type": "code",
   "execution_count": 7,
   "id": "5efbf13f-a3ea-42e6-a40f-551d527f41e6",
   "metadata": {},
   "outputs": [
    {
     "data": {
      "text/plain": [
       "{1: 2, 2: 3, 3: 4}"
      ]
     },
     "execution_count": 7,
     "metadata": {},
     "output_type": "execute_result"
    }
   ],
   "source": [
    "ex1 = [[1, 2], [2, 3], [3, 4]]\n",
    "dict(ex1)"
   ]
  },
  {
   "cell_type": "code",
   "execution_count": 8,
   "id": "7c197f41-51ab-437e-97d6-3dc2128334fb",
   "metadata": {},
   "outputs": [
    {
     "data": {
      "text/plain": [
       "{1: 3, 2: 3}"
      ]
     },
     "execution_count": 8,
     "metadata": {},
     "output_type": "execute_result"
    }
   ],
   "source": [
    "ex2 = [(1, 2), (2, 3), (1, 3)]\n",
    "dict(ex2)"
   ]
  },
  {
   "cell_type": "code",
   "execution_count": 9,
   "id": "887afc5e-2b0d-4b62-b5dc-bb24ef39ce00",
   "metadata": {},
   "outputs": [
    {
     "data": {
      "text/plain": [
       "{'a': 'b', 'b': 'c', 'c': 'd'}"
      ]
     },
     "execution_count": 9,
     "metadata": {},
     "output_type": "execute_result"
    }
   ],
   "source": [
    "ex3 = ['ab', 'bc', 'cd']\n",
    "dict(ex3)"
   ]
  },
  {
   "cell_type": "markdown",
   "id": "48843326-53bc-491a-a61f-ced0433281ac",
   "metadata": {},
   "source": [
    "### 항목 조회 & 변경"
   ]
  },
  {
   "cell_type": "code",
   "execution_count": 10,
   "id": "54872377-4dc3-48da-887e-103625a3402b",
   "metadata": {},
   "outputs": [],
   "source": [
    "pythons = {\n",
    "    'Champman': 'Graham',\n",
    "    'Cleese': 'John',\n",
    "    'Idle': 'Eric',\n",
    "    'Jones': 'Terry',\n",
    "    'Palin': 'Michael'\n",
    "}"
   ]
  },
  {
   "cell_type": "code",
   "execution_count": 11,
   "id": "dc93172e-9569-4345-bc85-5c4e851c35e8",
   "metadata": {},
   "outputs": [
    {
     "data": {
      "text/plain": [
       "'Eric'"
      ]
     },
     "execution_count": 11,
     "metadata": {},
     "output_type": "execute_result"
    }
   ],
   "source": [
    "pythons['Idle']"
   ]
  },
  {
   "cell_type": "code",
   "execution_count": 14,
   "id": "111d4462-cf19-4693-9b3a-88a6b2d16a47",
   "metadata": {},
   "outputs": [],
   "source": [
    "pythons['Hwa'] = 'Chloe' #추가"
   ]
  },
  {
   "cell_type": "code",
   "execution_count": 13,
   "id": "6001eb6d-9609-4f57-bd9a-fc4e98426132",
   "metadata": {},
   "outputs": [
    {
     "data": {
      "text/plain": [
       "{'Champman': 'Graham',\n",
       " 'Cleese': 'John',\n",
       " 'Idle': 'James',\n",
       " 'Jones': 'Terry',\n",
       " 'Palin': 'Michael'}"
      ]
     },
     "execution_count": 13,
     "metadata": {},
     "output_type": "execute_result"
    }
   ],
   "source": [
    "pythons['Idle'] = 'James' #변경\n",
    "pythons"
   ]
  },
  {
   "cell_type": "code",
   "execution_count": 15,
   "id": "2dda0910-e6aa-4c31-accf-a4b6e10fce63",
   "metadata": {},
   "outputs": [
    {
     "data": {
      "text/plain": [
       "True"
      ]
     },
     "execution_count": 15,
     "metadata": {},
     "output_type": "execute_result"
    }
   ],
   "source": [
    "# 예외 없이\n",
    "'Hwa' in pythons"
   ]
  },
  {
   "cell_type": "code",
   "execution_count": 16,
   "id": "59d5f814-a25b-4c0d-b586-2e978d86205a",
   "metadata": {},
   "outputs": [
    {
     "data": {
      "text/plain": [
       "0"
      ]
     },
     "execution_count": 16,
     "metadata": {},
     "output_type": "execute_result"
    }
   ],
   "source": [
    "# get()\n",
    "pythons.get('Lee', 0) #없는 키는 None 변환"
   ]
  },
  {
   "cell_type": "markdown",
   "id": "bb264ebc-12d7-4fda-a9b0-a673ea4e84dd",
   "metadata": {},
   "source": [
    "### 전체 조회\n",
    "- keys()\n",
    "- values()\n",
    "- items()"
   ]
  },
  {
   "cell_type": "code",
   "execution_count": 22,
   "id": "d10c2ae5-63f0-49f5-953e-f4be95df5829",
   "metadata": {},
   "outputs": [
    {
     "data": {
      "text/plain": [
       "['Champman', 'Cleese', 'Idle', 'Jones', 'Palin', 'Hwa']"
      ]
     },
     "execution_count": 22,
     "metadata": {},
     "output_type": "execute_result"
    }
   ],
   "source": [
    "list(pythons.keys())"
   ]
  },
  {
   "cell_type": "code",
   "execution_count": 20,
   "id": "f15d17f7-dbe5-4cbc-b6c8-170c69784167",
   "metadata": {},
   "outputs": [
    {
     "data": {
      "text/plain": [
       "dict_values(['Graham', 'John', 'James', 'Terry', 'Michael', 'Chloe'])"
      ]
     },
     "execution_count": 20,
     "metadata": {},
     "output_type": "execute_result"
    }
   ],
   "source": [
    "pythons.values()"
   ]
  },
  {
   "cell_type": "code",
   "execution_count": 21,
   "id": "5d2f57be-d64f-4157-983a-454c33592bcc",
   "metadata": {},
   "outputs": [
    {
     "data": {
      "text/plain": [
       "dict_items([('Champman', 'Graham'), ('Cleese', 'John'), ('Idle', 'James'), ('Jones', 'Terry'), ('Palin', 'Michael'), ('Hwa', 'Chloe')])"
      ]
     },
     "execution_count": 21,
     "metadata": {},
     "output_type": "execute_result"
    }
   ],
   "source": [
    "pythons.items()"
   ]
  },
  {
   "cell_type": "code",
   "execution_count": 23,
   "id": "b955f925-155b-42c7-8093-3e413504bfae",
   "metadata": {},
   "outputs": [
    {
     "name": "stdout",
     "output_type": "stream",
     "text": [
      "Champman = Graham\n",
      "Cleese = John\n",
      "Idle = James\n",
      "Jones = Terry\n",
      "Palin = Michael\n",
      "Hwa = Chloe\n"
     ]
    }
   ],
   "source": [
    "for k, v in pythons.items():\n",
    "    print(f'{k} = {v}')"
   ]
  },
  {
   "cell_type": "code",
   "execution_count": 24,
   "id": "e6b14fc0-64a6-45ab-b9d8-77e180aba399",
   "metadata": {},
   "outputs": [
    {
     "data": {
      "text/plain": [
       "{('Champman', 'Graham'),\n",
       " ('Cleese', 'John'),\n",
       " ('Hwa', 'Chloe'),\n",
       " ('Idle', 'James'),\n",
       " ('Jones', 'Terry'),\n",
       " ('Palin', 'Michael')}"
      ]
     },
     "execution_count": 24,
     "metadata": {},
     "output_type": "execute_result"
    }
   ],
   "source": [
    "{(k, v) for k, v in pythons.items()}"
   ]
  },
  {
   "cell_type": "code",
   "execution_count": 25,
   "id": "d9fc3770-fb6b-4c33-8046-73233903b5f3",
   "metadata": {},
   "outputs": [
    {
     "data": {
      "text/plain": [
       "['Graham', 'John', 'James', 'Terry', 'Michael', 'Chloe']"
      ]
     },
     "execution_count": 25,
     "metadata": {},
     "output_type": "execute_result"
    }
   ],
   "source": [
    "[k[1] for k in pythons.items()] #0=key, 1=value"
   ]
  },
  {
   "cell_type": "code",
   "execution_count": 27,
   "id": "8f641755-c9db-4b6e-ba98-bc75b755a972",
   "metadata": {},
   "outputs": [
    {
     "data": {
      "text/plain": [
       "[('Champman', 'Graham'),\n",
       " ('Cleese', 'John'),\n",
       " ('Idle', 'James'),\n",
       " ('Jones', 'Terry'),\n",
       " ('Palin', 'Michael'),\n",
       " ('Hwa', 'Chloe')]"
      ]
     },
     "execution_count": 27,
     "metadata": {},
     "output_type": "execute_result"
    }
   ],
   "source": [
    "[k for k in pythons.items()] #keys"
   ]
  },
  {
   "cell_type": "markdown",
   "id": "8539244e-ac43-40dd-aa59-743ea2cc8587",
   "metadata": {},
   "source": [
    "### ex\n",
    "\n",
    "animal: num_leg 딕셔너리 만드시오."
   ]
  },
  {
   "cell_type": "code",
   "execution_count": 28,
   "id": "920e36f1-6993-4f2c-bcc6-24904f86289c",
   "metadata": {},
   "outputs": [],
   "source": [
    "animal = 'cat snake monkey ant spider'.split()\n",
    "legs = 4, 0, 2, 4, 8"
   ]
  },
  {
   "cell_type": "code",
   "execution_count": 35,
   "id": "d81fc51f-9a6d-4e80-a63e-afbc343bd347",
   "metadata": {},
   "outputs": [
    {
     "name": "stdout",
     "output_type": "stream",
     "text": [
      "{'cat': 4, 'snake': 0, 'monkey': 2, 'ant': 4, 'spider': 8}\n"
     ]
    }
   ],
   "source": [
    "num_leg = {}\n",
    "for k in range(len(animal)):\n",
    "    num_leg[animal[k]] = legs[k]\n",
    "print(num_leg)"
   ]
  },
  {
   "cell_type": "markdown",
   "id": "5db18520-cb2e-443f-bd89-6daa9272ecdf",
   "metadata": {},
   "source": [
    "Q. pythons 에서 성:이름, 성 첫 글자만, 이름은 글자 개수로 이뤄진 튜플(성, 이름) 리스트로 변환하기\n",
    "- dict comprehension 쓰지 말기"
   ]
  },
  {
   "cell_type": "code",
   "execution_count": 38,
   "id": "3d86b040-500f-4f7c-93d6-89ac89a3cc0f",
   "metadata": {},
   "outputs": [
    {
     "data": {
      "text/plain": [
       "[('C', 6), ('C', 4), ('I', 5), ('J', 5), ('P', 7), ('H', 5)]"
      ]
     },
     "execution_count": 38,
     "metadata": {},
     "output_type": "execute_result"
    }
   ],
   "source": [
    "[(key[0], len(value)) for key, value in pythons.items()]"
   ]
  },
  {
   "cell_type": "markdown",
   "id": "cbc24153-e8d4-4ffa-b362-a262def24e6a",
   "metadata": {},
   "source": [
    "### 값 수정, 삭제, 복제, 비교"
   ]
  },
  {
   "cell_type": "code",
   "execution_count": 39,
   "id": "73239589-28ad-4bd3-9645-75f344d60c4d",
   "metadata": {},
   "outputs": [
    {
     "data": {
      "text/plain": [
       "{'Champman': 'Graham',\n",
       " 'Cleese': 'John',\n",
       " 'Idle': 'James',\n",
       " 'Jones': 'Terry',\n",
       " 'Palin': 'Michael',\n",
       " 'Hwa': 'Chloe'}"
      ]
     },
     "execution_count": 39,
     "metadata": {},
     "output_type": "execute_result"
    }
   ],
   "source": [
    "pythons"
   ]
  },
  {
   "cell_type": "code",
   "execution_count": 40,
   "id": "8df603bd-190c-4516-882e-cd1a2abc4cda",
   "metadata": {},
   "outputs": [
    {
     "data": {
      "text/plain": [
       "{'Marx': 'Groucho', 'Houward': 'Moe'}"
      ]
     },
     "execution_count": 40,
     "metadata": {},
     "output_type": "execute_result"
    }
   ],
   "source": [
    "others = {\n",
    "    'Marx' : 'Groucho',\n",
    "    'Houward' : 'Moe'\n",
    "}\n",
    "\n",
    "others"
   ]
  },
  {
   "cell_type": "code",
   "execution_count": 41,
   "id": "11730a39-d10c-475a-b851-1cfadc75a635",
   "metadata": {},
   "outputs": [],
   "source": [
    "pythons.update(others)"
   ]
  },
  {
   "cell_type": "code",
   "execution_count": 42,
   "id": "e3942a1b-7695-4d13-b01f-ec180f58efc6",
   "metadata": {},
   "outputs": [
    {
     "data": {
      "text/plain": [
       "{'Champman': 'Graham',\n",
       " 'Cleese': 'John',\n",
       " 'Idle': 'James',\n",
       " 'Jones': 'Terry',\n",
       " 'Palin': 'Michael',\n",
       " 'Hwa': 'Chloe',\n",
       " 'Marx': 'Groucho',\n",
       " 'Houward': 'Moe'}"
      ]
     },
     "execution_count": 42,
     "metadata": {},
     "output_type": "execute_result"
    }
   ],
   "source": [
    "pythons"
   ]
  },
  {
   "cell_type": "code",
   "execution_count": 43,
   "id": "55312810-e317-414a-a79c-feef2c605056",
   "metadata": {},
   "outputs": [
    {
     "data": {
      "text/plain": [
       "{'Marx': 'Groucho',\n",
       " 'Houward': 'Moe',\n",
       " 'Champman': 'Graham',\n",
       " 'Cleese': 'John',\n",
       " 'Idle': 'James',\n",
       " 'Jones': 'Terry',\n",
       " 'Palin': 'Michael',\n",
       " 'Hwa': 'Chloe'}"
      ]
     },
     "execution_count": 43,
     "metadata": {},
     "output_type": "execute_result"
    }
   ],
   "source": [
    "#py 3\n",
    "{**others, **pythons}"
   ]
  },
  {
   "cell_type": "code",
   "execution_count": 44,
   "id": "6a811338-6560-4798-8fd5-2b9bfd7c1b39",
   "metadata": {},
   "outputs": [],
   "source": [
    "#삭제\n",
    "del pythons['Hwa']"
   ]
  },
  {
   "cell_type": "code",
   "execution_count": 45,
   "id": "db0c6d01-3837-481c-85f6-fac31fae9bc7",
   "metadata": {},
   "outputs": [
    {
     "data": {
      "text/plain": [
       "{'Champman': 'Graham',\n",
       " 'Cleese': 'John',\n",
       " 'Idle': 'James',\n",
       " 'Jones': 'Terry',\n",
       " 'Palin': 'Michael',\n",
       " 'Marx': 'Groucho',\n",
       " 'Houward': 'Moe'}"
      ]
     },
     "execution_count": 45,
     "metadata": {},
     "output_type": "execute_result"
    }
   ],
   "source": [
    "pythons"
   ]
  },
  {
   "cell_type": "code",
   "execution_count": 46,
   "id": "b444a3e0-a332-4db6-9fb5-ee082026b24a",
   "metadata": {},
   "outputs": [
    {
     "ename": "KeyError",
     "evalue": "'Lee'",
     "output_type": "error",
     "traceback": [
      "\u001b[0;31m---------------------------------------------------------------------------\u001b[0m",
      "\u001b[0;31mKeyError\u001b[0m                                  Traceback (most recent call last)",
      "\u001b[0;32m/var/folders/hw/1ktzsq7s1w14xc35sfjzdtg80000gn/T/ipykernel_20090/2522327117.py\u001b[0m in \u001b[0;36m<module>\u001b[0;34m\u001b[0m\n\u001b[0;32m----> 1\u001b[0;31m \u001b[0;32mdel\u001b[0m \u001b[0mpythons\u001b[0m\u001b[0;34m[\u001b[0m\u001b[0;34m'Lee'\u001b[0m\u001b[0;34m]\u001b[0m\u001b[0;34m\u001b[0m\u001b[0;34m\u001b[0m\u001b[0m\n\u001b[0m",
      "\u001b[0;31mKeyError\u001b[0m: 'Lee'"
     ]
    }
   ],
   "source": [
    "del pythons['Lee']"
   ]
  },
  {
   "cell_type": "code",
   "execution_count": 47,
   "id": "b9375e2e-9a2d-426f-8b53-2aa52b6dc0c0",
   "metadata": {},
   "outputs": [
    {
     "data": {
      "text/plain": [
       "'Groucho'"
      ]
     },
     "execution_count": 47,
     "metadata": {},
     "output_type": "execute_result"
    }
   ],
   "source": [
    "pythons.pop('Marx')"
   ]
  },
  {
   "cell_type": "code",
   "execution_count": 48,
   "id": "5895835d-3f69-4079-885a-d0d932ee0903",
   "metadata": {},
   "outputs": [
    {
     "data": {
      "text/plain": [
       "0"
      ]
     },
     "execution_count": 48,
     "metadata": {},
     "output_type": "execute_result"
    }
   ],
   "source": [
    "pythons.pop('Lee', 0) #없으면 예외는 나지만, 예외 시 출력 값을 지정할 수 있다."
   ]
  },
  {
   "cell_type": "code",
   "execution_count": 49,
   "id": "547ec031-507a-4d33-93f9-396ccdf27bf1",
   "metadata": {},
   "outputs": [],
   "source": [
    "#전체 삭제\n",
    "pythons.clear()\n",
    "pythons = {}"
   ]
  },
  {
   "cell_type": "code",
   "execution_count": 50,
   "id": "8b54f3c8-7d81-4a1b-b656-3236b17757f7",
   "metadata": {},
   "outputs": [
    {
     "data": {
      "text/plain": [
       "{}"
      ]
     },
     "execution_count": 50,
     "metadata": {},
     "output_type": "execute_result"
    }
   ],
   "source": [
    "pythons"
   ]
  },
  {
   "cell_type": "markdown",
   "id": "62a2559e-baf9-4390-bd61-e378847e1995",
   "metadata": {},
   "source": [
    "### 복제\n",
    "- 할당\n",
    "- 얕은 복사 : c = a.copy()\n",
    "- 깊은 복사"
   ]
  },
  {
   "cell_type": "code",
   "execution_count": 51,
   "id": "37c38591-1dfe-41ff-a8fe-b35b6d1cee91",
   "metadata": {},
   "outputs": [
    {
     "data": {
      "text/plain": [
       "({1: 45, 2: 2, 3: 3}, {1: 45, 2: 2, 3: 3})"
      ]
     },
     "execution_count": 51,
     "metadata": {},
     "output_type": "execute_result"
    }
   ],
   "source": [
    "a = {1:1, 2:2, 3:3}\n",
    "b = a\n",
    "a[1] = 45\n",
    "a,b"
   ]
  },
  {
   "cell_type": "code",
   "execution_count": 52,
   "id": "0bec2baa-01ba-49d7-bfab-d3075398e58e",
   "metadata": {},
   "outputs": [
    {
     "data": {
      "text/plain": [
       "({1: 45, 2: 22, 3: 3}, {1: 45, 2: 2, 3: 3})"
      ]
     },
     "execution_count": 52,
     "metadata": {},
     "output_type": "execute_result"
    }
   ],
   "source": [
    "c = a.copy()\n",
    "a[2] = 22\n",
    "a, c"
   ]
  },
  {
   "cell_type": "code",
   "execution_count": 53,
   "id": "30b897b3-afaf-4c24-af7d-d82682471c8c",
   "metadata": {},
   "outputs": [
    {
     "data": {
      "text/plain": [
       "({1: [100, 2, 3], 2: [2, 3, 4]}, {1: [100, 2, 3], 2: [2, 3, 4]})"
      ]
     },
     "execution_count": 53,
     "metadata": {},
     "output_type": "execute_result"
    }
   ],
   "source": [
    "a = {1: [1, 2, 3], 2:[2, 3, 4]}\n",
    "d = a.copy()\n",
    "a[1][0] = 100\n",
    "a, d"
   ]
  },
  {
   "cell_type": "code",
   "execution_count": 55,
   "id": "3c3e51d1-4d96-4a6b-ac14-9467dabe9bc3",
   "metadata": {},
   "outputs": [
    {
     "data": {
      "text/plain": [
       "({1: [100, 999, 3], 2: [2, 3, 4]}, {1: [100, 999, 3], 2: [2, 3, 4]})"
      ]
     },
     "execution_count": 55,
     "metadata": {},
     "output_type": "execute_result"
    }
   ],
   "source": [
    "import copy\n",
    "e = copy.deepcopy(a)\n",
    "a[1][1] = 999\n",
    "a, e"
   ]
  },
  {
   "cell_type": "markdown",
   "id": "5f44ce9d-ef7b-43b0-b1a9-e934435e3581",
   "metadata": {},
   "source": [
    "#### 비교\n",
    "- 같다, 다르다만 된다."
   ]
  },
  {
   "cell_type": "code",
   "execution_count": 56,
   "id": "5fdb280b-29b7-4e19-85bc-2826e142a12e",
   "metadata": {},
   "outputs": [
    {
     "data": {
      "text/plain": [
       "True"
      ]
     },
     "execution_count": 56,
     "metadata": {},
     "output_type": "execute_result"
    }
   ],
   "source": [
    "a != b"
   ]
  },
  {
   "cell_type": "markdown",
   "id": "ce0ab113-f61d-40e8-bb60-b11b8172a8c4",
   "metadata": {},
   "source": [
    "### EX\n",
    "1. 두 리스트로 하나의 딕셔너리 생성\n",
    "2. 명왕성=pluto 추가하기\n",
    "3. '성'으로 끝나지 않은 키 삭제하기\n",
    "    dic dict1['태양'] - X\n",
    "4. sorted 이용해서 값 정렬하기 1) key, 2) value"
   ]
  },
  {
   "cell_type": "code",
   "execution_count": 6,
   "id": "056ca8f4-1dfa-4fa2-b3dd-840245b9e306",
   "metadata": {},
   "outputs": [],
   "source": [
    "solar_kor = '태양 수성 금성 지구 화성 목성 토성 천왕성 해왕성'.split()\n",
    "solar_eng = 'sun mecury venus earth mars jupiter saturn uranus neptune'.split()"
   ]
  },
  {
   "cell_type": "code",
   "execution_count": 7,
   "id": "d9ea402a-ea43-4010-96dc-2bd65d644e5e",
   "metadata": {},
   "outputs": [
    {
     "ename": "SyntaxError",
     "evalue": "invalid syntax (335824605.py, line 7)",
     "output_type": "error",
     "traceback": [
      "\u001b[0;36m  File \u001b[0;32m\"/var/folders/hw/1ktzsq7s1w14xc35sfjzdtg80000gn/T/ipykernel_42739/335824605.py\"\u001b[0;36m, line \u001b[0;32m7\u001b[0m\n\u001b[0;31m    for i in list(solar)\u001b[0m\n\u001b[0m                        ^\u001b[0m\n\u001b[0;31mSyntaxError\u001b[0m\u001b[0;31m:\u001b[0m invalid syntax\n"
     ]
    }
   ],
   "source": [
    "dictionary = dict(zip(solar_kor, solar_eng))\n",
    "print(dictionary)\n",
    "add = {\n",
    "    '명왕성':'pluto'\n",
    "}\n",
    "dictionary.update(add)\n",
    "for i in list(solar)\n",
    "if '성' in dictionary:"
   ]
  },
  {
   "cell_type": "code",
   "execution_count": 8,
   "id": "d953113f-0130-450b-a40e-c08dd634ad1c",
   "metadata": {},
   "outputs": [
    {
     "data": {
      "text/plain": [
       "{'태양': 'sun',\n",
       " '수성': 'mecury',\n",
       " '금성': 'venus',\n",
       " '지구': 'earth',\n",
       " '화성': 'mars',\n",
       " '목성': 'jupiter',\n",
       " '토성': 'saturn',\n",
       " '천왕성': 'uranus',\n",
       " '해왕성': 'neptune',\n",
       " '명왕성': 'pluto'}"
      ]
     },
     "execution_count": 8,
     "metadata": {},
     "output_type": "execute_result"
    }
   ],
   "source": [
    "system = {}\n",
    "for k, v in zip(solar_kor, solar_eng):\n",
    "    system[k] = v\n",
    "    \n",
    "system['명왕성'] = 'pluto'\n",
    "dict([(k, system[k]) for k in system if k.endswith('성')])\n",
    "system"
   ]
  },
  {
   "cell_type": "markdown",
   "id": "a1b85739-2fed-4925-91d2-4d29deb57b63",
   "metadata": {},
   "source": [
    "### 컴프리헨션"
   ]
  },
  {
   "cell_type": "code",
   "execution_count": 58,
   "id": "dea87fa8-c8d3-443f-9926-fde19ae8a697",
   "metadata": {},
   "outputs": [
    {
     "data": {
      "text/plain": [
       "{'a': 1, 'p': 2, 'l': 1, 'e': 1}"
      ]
     },
     "execution_count": 58,
     "metadata": {},
     "output_type": "execute_result"
    }
   ],
   "source": [
    "letter = 'apple'\n",
    "#a: 1, p: 2, ...\n",
    "{ch: letter.count(ch) for ch in letter}"
   ]
  },
  {
   "cell_type": "code",
   "execution_count": 60,
   "id": "0e21520d-93b7-4ca4-b09d-1b8dc329ccbf",
   "metadata": {},
   "outputs": [],
   "source": [
    "# 단어의 모음세기\n",
    "vowels = 'aeiou'\n",
    "word = 'onomatopoeia'\n",
    "\n",
    "# word 순회\n",
    "# vowel 순회 "
   ]
  },
  {
   "cell_type": "code",
   "execution_count": 62,
   "id": "ce2f27c8-74b0-47fd-b01b-d7678cb82804",
   "metadata": {},
   "outputs": [
    {
     "data": {
      "text/plain": [
       "{'a': 2, 'e': 1, 'i': 1, 'o': 4}"
      ]
     },
     "execution_count": 62,
     "metadata": {},
     "output_type": "execute_result"
    }
   ],
   "source": [
    "{v: word.count(v) for v in vowels if v in word}"
   ]
  },
  {
   "cell_type": "code",
   "execution_count": 66,
   "id": "59b2e1d3-8ff9-4072-aac2-b71256a76779",
   "metadata": {},
   "outputs": [
    {
     "data": {
      "text/plain": [
       "{'o': 4, 'i': 1, 'e': 1, 'a': 2}"
      ]
     },
     "execution_count": 66,
     "metadata": {},
     "output_type": "execute_result"
    }
   ],
   "source": [
    "{w: word.count(w) for w in set(word) if w in vowels}"
   ]
  },
  {
   "cell_type": "code",
   "execution_count": 9,
   "id": "76a82c98-3bc8-482e-b655-9eddaefbd356",
   "metadata": {},
   "outputs": [
    {
     "data": {
      "text/plain": [
       "{'태양': 'sun',\n",
       " '수성': 'mecury',\n",
       " '금성': 'venus',\n",
       " '지구': 'earth',\n",
       " '화성': 'mars',\n",
       " '목성': 'jupiter',\n",
       " '토성': 'saturn',\n",
       " '천왕성': 'uranus',\n",
       " '해왕성': 'neptune',\n",
       " '명왕성': 'pluto'}"
      ]
     },
     "execution_count": 9,
     "metadata": {},
     "output_type": "execute_result"
    }
   ],
   "source": [
    "system"
   ]
  },
  {
   "cell_type": "markdown",
   "id": "95530929-c62b-4ec4-8680-986feceb60f2",
   "metadata": {},
   "source": [
    "#### sorting"
   ]
  },
  {
   "cell_type": "code",
   "execution_count": 10,
   "id": "60a62b82-570c-4266-9e24-e70c06f5ee3a",
   "metadata": {},
   "outputs": [
    {
     "ename": "NameError",
     "evalue": "name 'f' is not defined",
     "output_type": "error",
     "traceback": [
      "\u001b[0;31m---------------------------------------------------------------------------\u001b[0m",
      "\u001b[0;31mNameError\u001b[0m                                 Traceback (most recent call last)",
      "\u001b[0;32m/var/folders/hw/1ktzsq7s1w14xc35sfjzdtg80000gn/T/ipykernel_42739/4156299715.py\u001b[0m in \u001b[0;36m<module>\u001b[0;34m\u001b[0m\n\u001b[0;32m----> 1\u001b[0;31m \u001b[0msorted\u001b[0m\u001b[0;34m(\u001b[0m\u001b[0msystem\u001b[0m\u001b[0;34m.\u001b[0m\u001b[0mitems\u001b[0m\u001b[0;34m(\u001b[0m\u001b[0;34m)\u001b[0m\u001b[0;34m,\u001b[0m \u001b[0mkey\u001b[0m\u001b[0;34m=\u001b[0m\u001b[0mf\u001b[0m\u001b[0;34m(\u001b[0m\u001b[0mx\u001b[0m\u001b[0;34m)\u001b[0m\u001b[0;34m)\u001b[0m \u001b[0;31m#\u001b[0m\u001b[0;34m\u001b[0m\u001b[0;34m\u001b[0m\u001b[0m\n\u001b[0m",
      "\u001b[0;31mNameError\u001b[0m: name 'f' is not defined"
     ]
    }
   ],
   "source": [
    "sorted(system.items(), key=f(x)) #"
   ]
  },
  {
   "cell_type": "code",
   "execution_count": 11,
   "id": "5932a667-f78d-4ef2-9383-4ffe57b3b8a4",
   "metadata": {},
   "outputs": [],
   "source": [
    "def fx(x):\n",
    "    return x[1]"
   ]
  },
  {
   "cell_type": "code",
   "execution_count": 12,
   "id": "a68aaef6-5a7f-4126-b688-b58d822de033",
   "metadata": {},
   "outputs": [
    {
     "data": {
      "text/plain": [
       "[('지구', 'earth'),\n",
       " ('목성', 'jupiter'),\n",
       " ('화성', 'mars'),\n",
       " ('수성', 'mecury'),\n",
       " ('해왕성', 'neptune'),\n",
       " ('명왕성', 'pluto'),\n",
       " ('토성', 'saturn'),\n",
       " ('태양', 'sun'),\n",
       " ('천왕성', 'uranus'),\n",
       " ('금성', 'venus')]"
      ]
     },
     "execution_count": 12,
     "metadata": {},
     "output_type": "execute_result"
    }
   ],
   "source": [
    "sorted(system.items(), key=lambda x: x[1])"
   ]
  },
  {
   "cell_type": "code",
   "execution_count": null,
   "id": "349e72e9-0b25-4f4e-aec0-6cc315e423ef",
   "metadata": {},
   "outputs": [],
   "source": []
  },
  {
   "cell_type": "markdown",
   "id": "71e9d817-4aec-4d9e-9fa6-aff9be96a2c7",
   "metadata": {},
   "source": [
    "### set\n",
    "- \"중복이 없다\"\n",
    "- 집합 => 교집합, 합집합, 차집합, ...\n",
    "- bag, 인덱싱도 없다."
   ]
  },
  {
   "cell_type": "code",
   "execution_count": 16,
   "id": "bb650126-ada4-4947-916b-562ab4714483",
   "metadata": {},
   "outputs": [
    {
     "data": {
      "text/plain": [
       "set()"
      ]
     },
     "execution_count": 16,
     "metadata": {},
     "output_type": "execute_result"
    }
   ],
   "source": [
    "empty = set()\n",
    "empty"
   ]
  },
  {
   "cell_type": "code",
   "execution_count": 17,
   "id": "b5a1ddd3-a54c-40e2-81b2-bdf7dc602bea",
   "metadata": {},
   "outputs": [
    {
     "data": {
      "text/plain": [
       "{1, 2, 3}"
      ]
     },
     "execution_count": 17,
     "metadata": {},
     "output_type": "execute_result"
    }
   ],
   "source": [
    "a = {1, 2, 3}\n",
    "a"
   ]
  },
  {
   "cell_type": "code",
   "execution_count": 18,
   "id": "97499023-28cc-48fb-bc48-cb4bcdf3e1e5",
   "metadata": {},
   "outputs": [
    {
     "data": {
      "text/plain": [
       "{1, 2, 3}"
      ]
     },
     "execution_count": 18,
     "metadata": {},
     "output_type": "execute_result"
    }
   ],
   "source": [
    "a = set((1, 2, 3)) #선언, 형 변환\n",
    "a"
   ]
  },
  {
   "cell_type": "code",
   "execution_count": 19,
   "id": "81fa1797-5e72-4aed-a29f-8bfdcc3fbe21",
   "metadata": {},
   "outputs": [
    {
     "data": {
      "text/plain": [
       "{1, 2, 3, 4}"
      ]
     },
     "execution_count": 19,
     "metadata": {},
     "output_type": "execute_result"
    }
   ],
   "source": [
    "# 추가\n",
    "a.add(4)\n",
    "a"
   ]
  },
  {
   "cell_type": "code",
   "execution_count": 20,
   "id": "e8c4ccfb-9a23-40e7-80f2-e44ea3429d98",
   "metadata": {},
   "outputs": [
    {
     "data": {
      "text/plain": [
       "{1, 2, 3}"
      ]
     },
     "execution_count": 20,
     "metadata": {},
     "output_type": "execute_result"
    }
   ],
   "source": [
    "# 삭제\n",
    "a.remove(4)\n",
    "a"
   ]
  },
  {
   "cell_type": "code",
   "execution_count": 21,
   "id": "d9676d98-a9f4-49e2-aba6-ff1e3fa69569",
   "metadata": {},
   "outputs": [],
   "source": [
    "drinks = {\n",
    "    'martini': {'vodka', 'vermouth'},\n",
    "    'black russian': {'vodka', 'kahlua'},\n",
    "    'white russian': {'cream', 'kahlua', 'vodka'},\n",
    "    'manhattan': {'rye', 'vermouth', 'bitters'},\n",
    "    'screwdriver': {'orange juice', 'vodka'}\n",
    "}\n",
    "\n",
    "#"
   ]
  },
  {
   "cell_type": "code",
   "execution_count": 22,
   "id": "13d1d51a-f68d-4417-a24e-a363972c8d66",
   "metadata": {},
   "outputs": [
    {
     "ename": "IndentationError",
     "evalue": "expected an indented block (3300662815.py, line 9)",
     "output_type": "error",
     "traceback": [
      "\u001b[0;36m  File \u001b[0;32m\"/var/folders/hw/1ktzsq7s1w14xc35sfjzdtg80000gn/T/ipykernel_42739/3300662815.py\"\u001b[0;36m, line \u001b[0;32m9\u001b[0m\n\u001b[0;31m    for name, liquid in drinks.items():\u001b[0m\n\u001b[0m                                       ^\u001b[0m\n\u001b[0;31mIndentationError\u001b[0m\u001b[0;31m:\u001b[0m expected an indented block\n"
     ]
    }
   ],
   "source": [
    "for k, v in drinks.items():\n",
    "    if 'vodka' in v:\n",
    "        print(k)\n",
    "        \n",
    "for k, v in drinks.items():\n",
    "    if 'vodka' in v and not 'cream' in v and not 'vermouth' in v:\n",
    "        print(k)\n",
    "        \n",
    "for name, liquid in drinks.items():"
   ]
  },
  {
   "cell_type": "code",
   "execution_count": 79,
   "id": "07e7d1f6-9a4c-4b93-bda0-1e1f708718f5",
   "metadata": {},
   "outputs": [
    {
     "data": {
      "text/plain": [
       "({1}, {4})"
      ]
     },
     "execution_count": 79,
     "metadata": {},
     "output_type": "execute_result"
    }
   ],
   "source": [
    "a = {1, 2, 3}\n",
    "b = {2, 3, 4}\n",
    "\n",
    "#교집합 ㅣ intersection\n",
    "a.intersection(b)\n",
    "\n",
    "#합집합 ㅣ union\n",
    "a.union(b)\n",
    "a | b\n",
    "\n",
    "#차집합 ㅣ difference(b)\n",
    "a.difference(b)\n",
    "a - b, b- a"
   ]
  },
  {
   "cell_type": "code",
   "execution_count": null,
   "id": "7c90cbb3-cc21-4626-9758-2c29fa2d99c1",
   "metadata": {},
   "outputs": [],
   "source": []
  },
  {
   "cell_type": "code",
   "execution_count": 82,
   "id": "fb03dca2-bc20-4701-9ffa-86ffdeca7e63",
   "metadata": {},
   "outputs": [
    {
     "name": "stdout",
     "output_type": "stream",
     "text": [
      "black russian\n",
      "screwdriver\n"
     ]
    }
   ],
   "source": [
    "for k, v in drinks.items():\n",
    "    if 'vodka' in v and not 'cream' in v and not 'vermouth' in v:\n",
    "        print(k)"
   ]
  },
  {
   "cell_type": "code",
   "execution_count": null,
   "id": "e1988ef6-efb4-4a9a-88d1-5706af81b873",
   "metadata": {},
   "outputs": [],
   "source": []
  }
 ],
 "metadata": {
  "kernelspec": {
   "display_name": "Python 3 (ipykernel)",
   "language": "python",
   "name": "python3"
  },
  "language_info": {
   "codemirror_mode": {
    "name": "ipython",
    "version": 3
   },
   "file_extension": ".py",
   "mimetype": "text/x-python",
   "name": "python",
   "nbconvert_exporter": "python",
   "pygments_lexer": "ipython3",
   "version": "3.9.7"
  }
 },
 "nbformat": 4,
 "nbformat_minor": 5
}
