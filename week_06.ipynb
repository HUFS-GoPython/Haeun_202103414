{
 "cells": [
  {
   "cell_type": "markdown",
   "id": "000aa0bd-ac50-4524-be8c-a341dc07fe93",
   "metadata": {},
   "source": [
    "### NLTK Inaugural"
   ]
  },
  {
   "cell_type": "code",
   "execution_count": 2,
   "id": "e26a8c7d-2b10-49d9-a78a-e4c8450f0d0a",
   "metadata": {},
   "outputs": [
    {
     "name": "stderr",
     "output_type": "stream",
     "text": [
      "[nltk_data] Downloading package brown to /Users/chaeha-\n",
      "[nltk_data]     eun/nltk_data...\n",
      "[nltk_data]   Package brown is already up-to-date!\n",
      "[nltk_data] Downloading package inaugural to /Users/chaeha-\n",
      "[nltk_data]     eun/nltk_data...\n",
      "[nltk_data]   Package inaugural is already up-to-date!\n"
     ]
    },
    {
     "data": {
      "text/plain": [
       "True"
      ]
     },
     "execution_count": 2,
     "metadata": {},
     "output_type": "execute_result"
    }
   ],
   "source": [
    "import nltk\n",
    "nltk.download(['brown','inaugural']) # lookup"
   ]
  },
  {
   "cell_type": "code",
   "execution_count": 3,
   "id": "d0407c73-d344-416b-aa4c-e7aa2a6da08f",
   "metadata": {},
   "outputs": [],
   "source": [
    "brown = nltk.corpus.brown"
   ]
  },
  {
   "cell_type": "code",
   "execution_count": 4,
   "id": "a4b3dbe4-1f96-42e2-85de-f4ae3adeff8d",
   "metadata": {},
   "outputs": [
    {
     "name": "stdout",
     "output_type": "stream",
     "text": [
      "                  can could would  will might   may \n",
      "      adventure    46   151   191    50    58     5 \n",
      " belles_lettres   246   213   392   236   113   207 \n",
      "      editorial   121    56   180   233    39    74 \n",
      "        fiction    37   166   287    52    44     8 \n",
      "     government   117    38   120   244    13   153 \n",
      "        hobbies   268    58    78   264    22   131 \n",
      "          humor    16    30    56    13     8     8 \n",
      "        learned   365   159   319   340   128   324 \n",
      "           lore   170   141   186   175    49   165 \n",
      "        mystery    42   141   186    20    57    13 \n",
      "           news    93    86   244   389    38    66 \n",
      "       religion    82    59    68    71    12    78 \n",
      "        reviews    45    40    47    58    26    45 \n",
      "        romance    74   193   244    43    51    11 \n",
      "science_fiction    16    49    79    16    12     4 \n"
     ]
    }
   ],
   "source": [
    "#cfd\n",
    "cfd = nltk.ConditionalFreqDist(\n",
    "    (genre, word)\n",
    "    for genre in brown.categories()\n",
    "    for word in brown.words(categories = genre)\n",
    ")\n",
    "\n",
    "modals = ['can', 'could', 'would', 'will', 'might', 'may'] #fileids\n",
    "cfd.tabulate(conditions=brown.categories(), samples=modals)"
   ]
  },
  {
   "cell_type": "code",
   "execution_count": 14,
   "id": "0b65efac-be15-4f55-9575-0bf6c5a0ff3e",
   "metadata": {},
   "outputs": [
    {
     "name": "stdout",
     "output_type": "stream",
     "text": [
      "                  can could   may might  will would \n",
      "      adventure    48   154     7    59    51   194 \n",
      " belles_lettres   249   216   221   113   246   397 \n",
      "      editorial   124    57    79    39   235   185 \n",
      "        fiction    39   168    10    44    56   291 \n",
      "     government   119    38   179    13   244   120 \n",
      "        hobbies   276    59   143    22   269    83 \n",
      "          humor    17    33     8     8    13    56 \n",
      "        learned   367   159   336   128   340   321 \n",
      "           lore   170   142   170    50   178   188 \n",
      "        mystery    45   145    15    57    25   189 \n",
      "           news    94    87    93    38   389   246 \n",
      "       religion    84    59    79    12    72    69 \n",
      "        reviews    45    40    47    26    61    48 \n",
      "        romance    79   195    11    51    49   247 \n",
      "science_fiction    16    49     4    12    17    80 \n"
     ]
    }
   ],
   "source": [
    "# modals의 빈도수가 포함된 cfd (word -> modal_verb)\n",
    "cfd1 = nltk.ConditionalFreqDist(\n",
    "    (genre, modal)\n",
    "    for genre in brown.categories()\n",
    "    for modal in ['can', 'could', 'would', 'will', 'might', 'may']\n",
    "    \n",
    "    for word in brown.words(categories = genre)\n",
    "        if word.lower() == modal\n",
    ")\n",
    "cfd1.tabulate()"
   ]
  },
  {
   "cell_type": "markdown",
   "id": "711ffeb6-c917-4493-87a2-4c8f5bce4159",
   "metadata": {},
   "source": [
    "### Inagural\n",
    "- 연설문 코퍼스"
   ]
  },
  {
   "cell_type": "code",
   "execution_count": 9,
   "id": "ebf843cb-dc5e-4467-ad73-c8a613db4e5c",
   "metadata": {},
   "outputs": [],
   "source": [
    "inaugural = nltk.corpus.inaugural"
   ]
  },
  {
   "cell_type": "code",
   "execution_count": 10,
   "id": "c94a119f-34d4-4b41-a3e3-8a240446c7f6",
   "metadata": {
    "collapsed": true,
    "jupyter": {
     "outputs_hidden": true
    },
    "tags": []
   },
   "outputs": [
    {
     "data": {
      "text/plain": [
       "['1789-Washington.txt',\n",
       " '1793-Washington.txt',\n",
       " '1797-Adams.txt',\n",
       " '1801-Jefferson.txt',\n",
       " '1805-Jefferson.txt',\n",
       " '1809-Madison.txt',\n",
       " '1813-Madison.txt',\n",
       " '1817-Monroe.txt',\n",
       " '1821-Monroe.txt',\n",
       " '1825-Adams.txt',\n",
       " '1829-Jackson.txt',\n",
       " '1833-Jackson.txt',\n",
       " '1837-VanBuren.txt',\n",
       " '1841-Harrison.txt',\n",
       " '1845-Polk.txt',\n",
       " '1849-Taylor.txt',\n",
       " '1853-Pierce.txt',\n",
       " '1857-Buchanan.txt',\n",
       " '1861-Lincoln.txt',\n",
       " '1865-Lincoln.txt',\n",
       " '1869-Grant.txt',\n",
       " '1873-Grant.txt',\n",
       " '1877-Hayes.txt',\n",
       " '1881-Garfield.txt',\n",
       " '1885-Cleveland.txt',\n",
       " '1889-Harrison.txt',\n",
       " '1893-Cleveland.txt',\n",
       " '1897-McKinley.txt',\n",
       " '1901-McKinley.txt',\n",
       " '1905-Roosevelt.txt',\n",
       " '1909-Taft.txt',\n",
       " '1913-Wilson.txt',\n",
       " '1917-Wilson.txt',\n",
       " '1921-Harding.txt',\n",
       " '1925-Coolidge.txt',\n",
       " '1929-Hoover.txt',\n",
       " '1933-Roosevelt.txt',\n",
       " '1937-Roosevelt.txt',\n",
       " '1941-Roosevelt.txt',\n",
       " '1945-Roosevelt.txt',\n",
       " '1949-Truman.txt',\n",
       " '1953-Eisenhower.txt',\n",
       " '1957-Eisenhower.txt',\n",
       " '1961-Kennedy.txt',\n",
       " '1965-Johnson.txt',\n",
       " '1969-Nixon.txt',\n",
       " '1973-Nixon.txt',\n",
       " '1977-Carter.txt',\n",
       " '1981-Reagan.txt',\n",
       " '1985-Reagan.txt',\n",
       " '1989-Bush.txt',\n",
       " '1993-Clinton.txt',\n",
       " '1997-Clinton.txt',\n",
       " '2001-Bush.txt',\n",
       " '2005-Bush.txt',\n",
       " '2009-Obama.txt',\n",
       " '2013-Obama.txt',\n",
       " '2017-Trump.txt',\n",
       " '2021-Biden.txt']"
      ]
     },
     "execution_count": 10,
     "metadata": {},
     "output_type": "execute_result"
    }
   ],
   "source": [
    "inaugural.fileids() #연도-이름.txt ㅣ '2021-Biden.txt'"
   ]
  },
  {
   "cell_type": "code",
   "execution_count": 13,
   "id": "e9c491f2-b228-435d-817c-363553255da7",
   "metadata": {},
   "outputs": [
    {
     "name": "stdout",
     "output_type": "stream",
     "text": [
      "        1793-Washington      1797-Adams     1817-Monroe     1821-Monroe      1825-Adams   1837-VanBuren   1841-Harrison     1853-Pierce   1857-Buchanan    1861-Lincoln      1869-Grant      1873-Grant      1877-Hayes   1881-Garfield  1885-Cleveland   1889-Harrison  1893-Cleveland       1909-Taft     1917-Wilson    1921-Harding   1925-Coolidge     1929-Hoover  1937-Roosevelt  1941-Roosevelt  1945-Roosevelt 1953-Eisenhower 1957-Eisenhower    1961-Kennedy    1965-Johnson      1969-Nixon      1973-Nixon     1977-Carter     1981-Reagan     1985-Reagan       1989-Bush    1993-Clinton    1997-Clinton       2001-Bush       2005-Bush      2009-Obama      2013-Obama      2017-Trump      2021-Biden \n",
      "america               1               5               0               2               0               1               0               0               1               0               0               0               0               1               0               0               0               4               2              15               8               6               1               7               1               3               5               2               3               6              21               2               6               7               7              19              15              11              20              10               8              20              20 \n",
      "citizen               0               1               5               0               1               1              11               1               0               1               2               1               1               2               5               3               3               0               0               0               2               2               1               1               0               3               0               0               3               0               0               0               0               0               1               0               1               1               1               0               2               0               0 \n"
     ]
    }
   ],
   "source": [
    "# ['america','citizen'] 빈도수를 cfd로 만드시오. == citizens, citizen's\n",
    "\n",
    "cfd2 = nltk.ConditionalFreqDist(\n",
    "    (target_word, fileid[:-4])\n",
    "    for fileid in inaugural.fileids()\n",
    "    for target_word in ['america','citizen']\n",
    "    \n",
    "    for word in inaugural.words(fileids = fileid)\n",
    "        if word.lower() == target_word\n",
    ")\n",
    "cfd2.tabulate()"
   ]
  },
  {
   "cell_type": "code",
   "execution_count": 16,
   "id": "c1dd934e-2134-41c6-8cc4-d08c51e32ca9",
   "metadata": {},
   "outputs": [
    {
     "data": {
      "text/plain": [
       "<bound method ConditionalFreqDist.plot of <ConditionalFreqDist with 2 conditions>>"
      ]
     },
     "execution_count": 16,
     "metadata": {},
     "output_type": "execute_result"
    }
   ],
   "source": [
    "cfd2.plot"
   ]
  },
  {
   "cell_type": "markdown",
   "id": "b4479f05-dbce-43fe-85c4-daa2122e1384",
   "metadata": {},
   "source": [
    "### Tuple & List\n",
    "- 불변 객체 vs 가변 객체"
   ]
  },
  {
   "cell_type": "code",
   "execution_count": 17,
   "id": "e37e0e82-03d6-4b5a-8ac4-c03015c28d06",
   "metadata": {},
   "outputs": [
    {
     "data": {
      "text/plain": [
       "((), [])"
      ]
     },
     "execution_count": 17,
     "metadata": {},
     "output_type": "execute_result"
    }
   ],
   "source": [
    "# 생성\n",
    "emptyT = ()\n",
    "emptyT = tuple()\n",
    "\n",
    "emptyL = []\n",
    "emptyL = list()\n",
    "\n",
    "emptyT,emptyL "
   ]
  },
  {
   "cell_type": "code",
   "execution_count": 18,
   "id": "37ea197c-f586-416d-8dc3-deadc2371b5a",
   "metadata": {},
   "outputs": [],
   "source": [
    "#1. 1 요소 여러 개일 때\n",
    "alphabetT = ('a', 'b')\n",
    "alphabetT = 'a', 'b'\n",
    "alphabetT\n",
    "\n",
    "alphabetL = ['a', 'b']"
   ]
  },
  {
   "cell_type": "code",
   "execution_count": 19,
   "id": "8125477b-68f3-44df-859a-c753347db0ac",
   "metadata": {},
   "outputs": [
    {
     "data": {
      "text/plain": [
       "str"
      ]
     },
     "execution_count": 19,
     "metadata": {},
     "output_type": "execute_result"
    }
   ],
   "source": [
    "#1. 2 요소 1개일 때\n",
    "alphaT = ('a') #str\n",
    "type(alphaT)"
   ]
  },
  {
   "cell_type": "code",
   "execution_count": 21,
   "id": "79669daf-6bc6-4646-b360-60466acbcdb4",
   "metadata": {},
   "outputs": [
    {
     "data": {
      "text/plain": [
       "tuple"
      ]
     },
     "execution_count": 21,
     "metadata": {},
     "output_type": "execute_result"
    }
   ],
   "source": [
    "alphaT = ('b',)\n",
    "type(alphaT)"
   ]
  },
  {
   "cell_type": "markdown",
   "id": "87e4897a-0d56-40ae-b58e-cb9197ec7136",
   "metadata": {},
   "source": [
    "- packing : 한 변수에 여러 데이터를 할당하는 것.\n",
    "    - list, tuple 자체. a = [1,2,3,4]\n",
    "- unpacking: 한 변수에 여러 데이터가 들어 있을 때 여러 변수에 나누는 것\n",
    "    - a='k', b='i', c='m'"
   ]
  },
  {
   "cell_type": "code",
   "execution_count": 22,
   "id": "b54134a4-f1b4-4f71-ac9e-bd7e1a57ebd6",
   "metadata": {},
   "outputs": [
    {
     "data": {
      "text/plain": [
       "('k', 'i', 'm')"
      ]
     },
     "execution_count": 22,
     "metadata": {},
     "output_type": "execute_result"
    }
   ],
   "source": [
    "a, b, c = 'kim' #unpacking\n",
    "a, b, c "
   ]
  },
  {
   "cell_type": "code",
   "execution_count": 23,
   "id": "d15409ce-839c-4eff-bce0-077962bb38a5",
   "metadata": {},
   "outputs": [
    {
     "data": {
      "text/plain": [
       "('sky', 'abcd')"
      ]
     },
     "execution_count": 23,
     "metadata": {},
     "output_type": "execute_result"
    }
   ],
   "source": [
    "# 값 교환하기\n",
    "pwd = 'abcd'\n",
    "userId = 'sky'\n",
    "'''\n",
    "temp1 = userId\n",
    "temp2 = pwd\n",
    "pwd = temp1\n",
    "userId = temp2'''\n",
    "\n",
    "pwd, userId = userId, pwd\n",
    "pwd, userId "
   ]
  },
  {
   "cell_type": "code",
   "execution_count": 24,
   "id": "f7079409-4b23-466d-bd5b-159f7f2b0e20",
   "metadata": {},
   "outputs": [
    {
     "data": {
      "text/plain": [
       "(1, 2, 1, 2, 1, 2)"
      ]
     },
     "execution_count": 24,
     "metadata": {},
     "output_type": "execute_result"
    }
   ],
   "source": [
    "#연산\n",
    "('a',) + (1,2)\n",
    "(1,2) * 3"
   ]
  },
  {
   "cell_type": "code",
   "execution_count": 25,
   "id": "bc6bc91e-d3eb-4681-b1c0-d24ee13b5505",
   "metadata": {},
   "outputs": [
    {
     "data": {
      "text/plain": [
       "(140653254114848, 140652670187376)"
      ]
     },
     "execution_count": 25,
     "metadata": {},
     "output_type": "execute_result"
    }
   ],
   "source": [
    "x = ('a',)\n",
    "y = (1,2)\n",
    "id(x), id(x + y)"
   ]
  },
  {
   "cell_type": "code",
   "execution_count": 26,
   "id": "d73d51c0-df5f-4d9b-adab-03c7d39b92bb",
   "metadata": {},
   "outputs": [
    {
     "data": {
      "text/plain": [
       "True"
      ]
     },
     "execution_count": 26,
     "metadata": {},
     "output_type": "execute_result"
    }
   ],
   "source": [
    "#비교\n",
    "x = 1, 2\n",
    "y = 1, 6\n",
    "\n",
    "x < y"
   ]
  },
  {
   "cell_type": "code",
   "execution_count": 28,
   "id": "f401d9fc-b918-48ab-8e60-46e6ee88febc",
   "metadata": {},
   "outputs": [
    {
     "name": "stdout",
     "output_type": "stream",
     "text": [
      "(1, 2)\n",
      "(1, 2)\n"
     ]
    }
   ],
   "source": [
    "#순회\n",
    "for i in x:\n",
    "    print(x)"
   ]
  },
  {
   "cell_type": "code",
   "execution_count": 29,
   "id": "65df46dd-5bbc-44f9-a133-b7ca4deace5f",
   "metadata": {},
   "outputs": [
    {
     "data": {
      "text/plain": [
       "[1, 2]"
      ]
     },
     "execution_count": 29,
     "metadata": {},
     "output_type": "execute_result"
    }
   ],
   "source": [
    "[i for i in x] #1"
   ]
  },
  {
   "cell_type": "code",
   "execution_count": null,
   "id": "9de7e5fb-3922-42c7-b9b4-d8fcc0bc80f7",
   "metadata": {},
   "outputs": [],
   "source": [
    "#tuplr comprehension??? - 없음\n",
    "tuple([i for i in x]) #2\n",
    "*[i for i in x], #3"
   ]
  },
  {
   "cell_type": "code",
   "execution_count": 6,
   "id": "7b307718-f5c8-4e27-9ebe-051d446a59f6",
   "metadata": {},
   "outputs": [],
   "source": [
    "# 형변환\n",
    "dog = 'dog'\n",
    "dogT = tuple(dog)"
   ]
  },
  {
   "cell_type": "code",
   "execution_count": 7,
   "id": "51856df5-82b5-4a91-8dbe-0943c78de818",
   "metadata": {},
   "outputs": [
    {
     "data": {
      "text/plain": [
       "('dog',)"
      ]
     },
     "execution_count": 7,
     "metadata": {},
     "output_type": "execute_result"
    }
   ],
   "source": [
    "(dog,)"
   ]
  },
  {
   "cell_type": "code",
   "execution_count": 8,
   "id": "4da08a4c-35d8-418c-bde0-b3a4d9b532a1",
   "metadata": {},
   "outputs": [
    {
     "data": {
      "text/plain": [
       "['d', 'o', 'g']"
      ]
     },
     "execution_count": 8,
     "metadata": {},
     "output_type": "execute_result"
    }
   ],
   "source": [
    "list(dog)"
   ]
  },
  {
   "cell_type": "code",
   "execution_count": 9,
   "id": "04ddf962-1b44-4d46-a5b0-b57ccf787567",
   "metadata": {},
   "outputs": [
    {
     "data": {
      "text/plain": [
       "'d'"
      ]
     },
     "execution_count": 9,
     "metadata": {},
     "output_type": "execute_result"
    }
   ],
   "source": [
    "#slicing도 동일하게 가능하다\n",
    "dogT[0]"
   ]
  },
  {
   "cell_type": "code",
   "execution_count": 10,
   "id": "27b29568-4ef6-45d3-a111-fd1ac7d72ff7",
   "metadata": {},
   "outputs": [
    {
     "data": {
      "text/plain": [
       "(1, 1, 1, 1)"
      ]
     },
     "execution_count": 10,
     "metadata": {},
     "output_type": "execute_result"
    }
   ],
   "source": [
    "(1, 1, 1, 1) # 튜플도 중복 가능하다."
   ]
  },
  {
   "cell_type": "markdown",
   "id": "0ce04327-e1bc-444f-9590-691aa78647c7",
   "metadata": {},
   "source": [
    "[정리]\n",
    "- tuple 장점\n",
    "    - 변하지 않는 데이터 시퀀스를 만들 수 있다. 타인의 접근 막는다.\n",
    "        - blue=1, white=2...\n",
    "    - 메모리 사용이 적다.\n",
    "- list 장점\n",
    "    - 튜플 장점 필요없을 때 전부 리스트 사용\n",
    "    - 데이터를 순차적으로 파악할 때\n",
    "    - 중복 데이터를 쓸 수 있다는 점 -> (vs. set)"
   ]
  },
  {
   "cell_type": "markdown",
   "id": "c388a0a7-7ab5-4d77-8b5f-2541067a7888",
   "metadata": {
    "tags": []
   },
   "source": [
    "### 리스트의 유용한 함수들\n",
    "- 변경, 삭제, 추가,\n",
    "- 리스트컴프리헨션 업그레이드"
   ]
  },
  {
   "cell_type": "code",
   "execution_count": 39,
   "id": "6ae000a2-d522-4b47-8363-97b9d9a78eb0",
   "metadata": {},
   "outputs": [
    {
     "data": {
      "text/plain": [
       "[0, 1, 2, 3, 4]"
      ]
     },
     "execution_count": 39,
     "metadata": {},
     "output_type": "execute_result"
    }
   ],
   "source": [
    "num = list(range(5))\n",
    "num"
   ]
  },
  {
   "cell_type": "code",
   "execution_count": 40,
   "id": "4f8118b0-35f1-4164-8d2d-0cff8c8e0e7f",
   "metadata": {},
   "outputs": [],
   "source": [
    "#추가\n",
    "num.append(6) # 마지막에 요소 1개만 추가 가능"
   ]
  },
  {
   "cell_type": "code",
   "execution_count": 41,
   "id": "9a96e832-fc06-4795-9f6a-f3dc5100a513",
   "metadata": {},
   "outputs": [
    {
     "data": {
      "text/plain": [
       "[0, 1, 2, 3, 4, 6]"
      ]
     },
     "execution_count": 41,
     "metadata": {},
     "output_type": "execute_result"
    }
   ],
   "source": [
    "num"
   ]
  },
  {
   "cell_type": "code",
   "execution_count": 42,
   "id": "2013601d-e6d8-47cc-ba5a-05761d368c6c",
   "metadata": {},
   "outputs": [
    {
     "data": {
      "text/plain": [
       "[8, 0, 1, 2, 3, 4, 6]"
      ]
     },
     "execution_count": 42,
     "metadata": {},
     "output_type": "execute_result"
    }
   ],
   "source": [
    "# insert(index, itme)\n",
    "num.insert(0,8)\n",
    "num"
   ]
  },
  {
   "cell_type": "code",
   "execution_count": 45,
   "id": "0159a750-b3e7-410e-be96-607985e7e14c",
   "metadata": {},
   "outputs": [
    {
     "data": {
      "text/plain": [
       "[8, 0, 1, 2, 3, 4, 6, 6, 6, 6]"
      ]
     },
     "execution_count": 45,
     "metadata": {},
     "output_type": "execute_result"
    }
   ],
   "source": [
    "# 여러 개 추가\n",
    "num.extend([6,6,6])\n",
    "num"
   ]
  },
  {
   "cell_type": "code",
   "execution_count": 47,
   "id": "0a7b3f40-bb35-448c-b058-96f08fb947d9",
   "metadata": {},
   "outputs": [
    {
     "data": {
      "text/plain": [
       "[8, 0, 1, 2, 3, 4, 6, 6, 6, 6, 6, 6, 6]"
      ]
     },
     "execution_count": 47,
     "metadata": {},
     "output_type": "execute_result"
    }
   ],
   "source": [
    "x = [6,6,6]\n",
    "num.extend(x)\n",
    "num"
   ]
  },
  {
   "cell_type": "code",
   "execution_count": 48,
   "id": "99723890-5b96-4ead-9993-39de44edfd6f",
   "metadata": {},
   "outputs": [
    {
     "data": {
      "text/plain": [
       "[8, 0, 1, 2, 3, 4, 6, 6, 6, 6, 6, 6, 6, [6, 6, 6]]"
      ]
     },
     "execution_count": 48,
     "metadata": {},
     "output_type": "execute_result"
    }
   ],
   "source": [
    "num.append(x) #리스트가 추가됨 - 주의하기\n",
    "num"
   ]
  },
  {
   "cell_type": "code",
   "execution_count": 49,
   "id": "90bd0d81-60b6-4a2d-9082-e9dcb357ee7e",
   "metadata": {},
   "outputs": [
    {
     "data": {
      "text/plain": [
       "[8, 0, 1, 2, 3, 4, 6, 6, 6, 6, 6, 6, 6, [6, 6, 6], 6, 6, 6]"
      ]
     },
     "execution_count": 49,
     "metadata": {},
     "output_type": "execute_result"
    }
   ],
   "source": [
    "num += x\n",
    "num"
   ]
  },
  {
   "cell_type": "code",
   "execution_count": 50,
   "id": "c50bb5ea-2931-4640-b364-f85137d820d9",
   "metadata": {},
   "outputs": [
    {
     "data": {
      "text/plain": [
       "[9, 0, 1, 2, 3, 4, 6, 6, 6, 6, 6, 6, 6, [6, 6, 6], 6, 6, 6]"
      ]
     },
     "execution_count": 50,
     "metadata": {},
     "output_type": "execute_result"
    }
   ],
   "source": [
    "# offset\n",
    "num[0] = 9\n",
    "num"
   ]
  },
  {
   "cell_type": "code",
   "execution_count": 52,
   "id": "a9fcd888-d53c-4ae1-ba76-8d13babc3d20",
   "metadata": {},
   "outputs": [
    {
     "data": {
      "text/plain": [
       "[2, 2, 2, 2, 3, 4, 6, 6, 6, 6, 6, 6, 6, [6, 6, 6], 6, 6, 6]"
      ]
     },
     "execution_count": 52,
     "metadata": {},
     "output_type": "execute_result"
    }
   ],
   "source": [
    "# silce\n",
    "num[:3] = 2,2,2\n",
    "num"
   ]
  },
  {
   "cell_type": "code",
   "execution_count": 53,
   "id": "600b1068-0a2c-4569-ba85-bc5dbb963563",
   "metadata": {},
   "outputs": [
    {
     "data": {
      "text/plain": [
       "['c', 'a', 't', 2, 3, 4, 6, 6, 6, 6, 6, 6, 6, [6, 6, 6], 6, 6, 6]"
      ]
     },
     "execution_count": 53,
     "metadata": {},
     "output_type": "execute_result"
    }
   ],
   "source": [
    "num[:3] = 'cat' #하나하나 언패킹이 되서 들어간다 - 주의\n",
    "num"
   ]
  },
  {
   "cell_type": "code",
   "execution_count": 54,
   "id": "8b9d7c62-93cb-466d-9b57-a62b9e303a3e",
   "metadata": {},
   "outputs": [
    {
     "data": {
      "text/plain": [
       "[2, 3, 4, 6, 6, 6, 6, 6, 6, 6, [6, 6, 6], 6, 6, 6]"
      ]
     },
     "execution_count": 54,
     "metadata": {},
     "output_type": "execute_result"
    }
   ],
   "source": [
    "# 삭제\n",
    "del num[:3]\n",
    "num"
   ]
  },
  {
   "cell_type": "code",
   "execution_count": 58,
   "id": "6f955b93-bc6c-4265-b50c-2662daf6a164",
   "metadata": {},
   "outputs": [
    {
     "data": {
      "text/plain": [
       "[3, 4, 6, 6, 6, 6, 6, 6, 6, 6]"
      ]
     },
     "execution_count": 58,
     "metadata": {},
     "output_type": "execute_result"
    }
   ],
   "source": [
    "# remove(value)\n",
    "num.remove([6,6,6])\n",
    "num"
   ]
  },
  {
   "cell_type": "code",
   "execution_count": 59,
   "id": "d79d85eb-04d7-4a5e-b0e2-1bab5cdd1501",
   "metadata": {},
   "outputs": [
    {
     "data": {
      "text/plain": [
       "[3, 4, 6, 6, 6, 6, 6, 6, 6]"
      ]
     },
     "execution_count": 59,
     "metadata": {},
     "output_type": "execute_result"
    }
   ],
   "source": [
    "# pop(index) - 기본값 = -1\n",
    "num.pop()\n",
    "num"
   ]
  },
  {
   "cell_type": "code",
   "execution_count": 60,
   "id": "034c2d52-6bb9-4ae6-9e7d-8158370aeea1",
   "metadata": {},
   "outputs": [
    {
     "data": {
      "text/plain": [
       "[4, 6, 6, 6, 6, 6, 6, 6]"
      ]
     },
     "execution_count": 60,
     "metadata": {},
     "output_type": "execute_result"
    }
   ],
   "source": [
    "num.pop(0)\n",
    "num"
   ]
  },
  {
   "cell_type": "code",
   "execution_count": 61,
   "id": "5f1944b5-c6c6-48ee-a3d0-d6c7c7891cc4",
   "metadata": {},
   "outputs": [
    {
     "data": {
      "text/plain": [
       "[]"
      ]
     },
     "execution_count": 61,
     "metadata": {},
     "output_type": "execute_result"
    }
   ],
   "source": [
    "#clear\n",
    "num.clear()\n",
    "num"
   ]
  },
  {
   "cell_type": "code",
   "execution_count": 63,
   "id": "dce03b0a-0512-481b-a367-7feb49ca704a",
   "metadata": {},
   "outputs": [
    {
     "data": {
      "text/plain": [
       "4"
      ]
     },
     "execution_count": 63,
     "metadata": {},
     "output_type": "execute_result"
    }
   ],
   "source": [
    "# 인덱스\n",
    "num = list(range(5))\n",
    "num.index(4)"
   ]
  },
  {
   "cell_type": "code",
   "execution_count": 64,
   "id": "c76ca3a8-a023-4a46-8556-d101e2c1edce",
   "metadata": {},
   "outputs": [
    {
     "data": {
      "text/plain": [
       "True"
      ]
     },
     "execution_count": 64,
     "metadata": {},
     "output_type": "execute_result"
    }
   ],
   "source": [
    "0 in num"
   ]
  },
  {
   "cell_type": "code",
   "execution_count": 65,
   "id": "1e57c014-3ac6-470e-a20d-740fc265008e",
   "metadata": {},
   "outputs": [
    {
     "data": {
      "text/plain": [
       "[4, 3, 2, 1, 0]"
      ]
     },
     "execution_count": 65,
     "metadata": {},
     "output_type": "execute_result"
    }
   ],
   "source": [
    "# 정렬: sort(), sorted()\n",
    "sorted(num, reverse=True) #변환 값만 복사해서 출력"
   ]
  },
  {
   "cell_type": "code",
   "execution_count": 67,
   "id": "59060c1c-f877-4a92-970e-0284a635506d",
   "metadata": {},
   "outputs": [],
   "source": [
    "num.sort(reverse=True) #리스트.sort(), 값을 할당하지 않아도 된다."
   ]
  },
  {
   "cell_type": "code",
   "execution_count": 68,
   "id": "66a2dbcb-a23e-4098-89b2-5ecb6c35cb5e",
   "metadata": {},
   "outputs": [
    {
     "data": {
      "text/plain": [
       "[4, 3, 2, 1, 0]"
      ]
     },
     "execution_count": 68,
     "metadata": {},
     "output_type": "execute_result"
    }
   ],
   "source": [
    "num"
   ]
  },
  {
   "cell_type": "code",
   "execution_count": 69,
   "id": "2126c8b9-a22f-4817-a694-4ee2fcb24a22",
   "metadata": {},
   "outputs": [
    {
     "data": {
      "text/plain": [
       "<list_reverseiterator at 0x7fec633e0700>"
      ]
     },
     "execution_count": 69,
     "metadata": {},
     "output_type": "execute_result"
    }
   ],
   "source": [
    "# reverse(), reversed()\n",
    "num.reverse()\n",
    "reversed(num)"
   ]
  },
  {
   "cell_type": "code",
   "execution_count": 70,
   "id": "508826e0-2dd5-40bf-95d1-7c098046a713",
   "metadata": {},
   "outputs": [
    {
     "data": {
      "text/plain": [
       "[1, 2, 3, 4]"
      ]
     },
     "execution_count": 70,
     "metadata": {},
     "output_type": "execute_result"
    }
   ],
   "source": [
    "# 할당\n",
    "a = list(range(1, 5))\n",
    "a"
   ]
  },
  {
   "cell_type": "code",
   "execution_count": 71,
   "id": "5de4a44b-fb06-4840-bc33-a69e67a60558",
   "metadata": {},
   "outputs": [
    {
     "data": {
      "text/plain": [
       "([6, 2, 3, 4], [6, 2, 3, 4])"
      ]
     },
     "execution_count": 71,
     "metadata": {},
     "output_type": "execute_result"
    }
   ],
   "source": [
    "b = a # 이퀄싸인 -> 같은 메모리주소를 참조하는 것\n",
    "b[0] = 6\n",
    "a, b"
   ]
  },
  {
   "cell_type": "code",
   "execution_count": 72,
   "id": "059e2d26-8d61-4632-bb5b-a8340ee07d42",
   "metadata": {},
   "outputs": [
    {
     "data": {
      "text/plain": [
       "(140652671017856, 140652671017856)"
      ]
     },
     "execution_count": 72,
     "metadata": {},
     "output_type": "execute_result"
    }
   ],
   "source": [
    "id(a), id(b)"
   ]
  },
  {
   "cell_type": "code",
   "execution_count": 73,
   "id": "c1d12da2-8009-4364-b110-aaebe7158133",
   "metadata": {},
   "outputs": [
    {
     "data": {
      "text/plain": [
       "(140652671017856, 140653254048832, 140653255048576, 140653261433088)"
      ]
     },
     "execution_count": 73,
     "metadata": {},
     "output_type": "execute_result"
    }
   ],
   "source": [
    "# shallow copy : 참조하지 않고 새로운 객체에 할당하는 방법. 얕은 복사\n",
    "c = a.copy()\n",
    "d = list(a)\n",
    "e = a[:]\n",
    "\n",
    "id(a), id(c), id(d), id(e)"
   ]
  },
  {
   "cell_type": "code",
   "execution_count": 74,
   "id": "da668e42-d46f-45e5-9a1d-13e31c939b54",
   "metadata": {},
   "outputs": [
    {
     "data": {
      "text/plain": [
       "[6, 2, 3, 4, [1, 2, 3]]"
      ]
     },
     "execution_count": 74,
     "metadata": {},
     "output_type": "execute_result"
    }
   ],
   "source": [
    "# deepcopy : 깊은 복사, 하위에 중첩된 리스트 요소가 안 바뀌도록\n",
    "a.append([1, 2, 3])\n",
    "a"
   ]
  },
  {
   "cell_type": "code",
   "execution_count": 75,
   "id": "6376e438-ddb7-42cd-8b31-139df04dd2c3",
   "metadata": {},
   "outputs": [
    {
     "data": {
      "text/plain": [
       "(140652671017856, 140652671020096)"
      ]
     },
     "execution_count": 75,
     "metadata": {},
     "output_type": "execute_result"
    }
   ],
   "source": [
    "f = a.copy()\n",
    "id(a), id(f)"
   ]
  },
  {
   "cell_type": "code",
   "execution_count": 76,
   "id": "39312bca-0f22-43bc-9c2e-ede9b6ed29fe",
   "metadata": {},
   "outputs": [
    {
     "data": {
      "text/plain": [
       "([6, 2, 3, 4, [9, 2, 3]], [6, 2, 3, 4, [9, 2, 3]])"
      ]
     },
     "execution_count": 76,
     "metadata": {},
     "output_type": "execute_result"
    }
   ],
   "source": [
    "f[-1][0] = 9\n",
    "a, f"
   ]
  },
  {
   "cell_type": "code",
   "execution_count": 77,
   "id": "ac306ffc-5f1f-47e1-b531-2f48045ccd9b",
   "metadata": {},
   "outputs": [
    {
     "data": {
      "text/plain": [
       "[6, 2, 3, 4, [9, 2, 3]]"
      ]
     },
     "execution_count": 77,
     "metadata": {},
     "output_type": "execute_result"
    }
   ],
   "source": [
    "import copy\n",
    "g = copy.deepcopy(a)\n",
    "g"
   ]
  },
  {
   "cell_type": "code",
   "execution_count": 78,
   "id": "d54fbf1c-6d15-41a7-a203-c3a117073ad9",
   "metadata": {},
   "outputs": [
    {
     "data": {
      "text/plain": [
       "([6, 2, 3, 4, [9, 2, 3]], [6, 2, 3, 4, [10, 2, 3]])"
      ]
     },
     "execution_count": 78,
     "metadata": {},
     "output_type": "execute_result"
    }
   ],
   "source": [
    "g[-1][0] = 10\n",
    "a, g"
   ]
  },
  {
   "cell_type": "code",
   "execution_count": 79,
   "id": "cdf895b4-d8ac-47fe-84a5-995f9f006482",
   "metadata": {},
   "outputs": [
    {
     "name": "stdout",
     "output_type": "stream",
     "text": [
      "('kate', 77)\n",
      "('royce', 44)\n",
      "('phill', 54)\n"
     ]
    }
   ],
   "source": [
    "# 순회 : zip, enumerate\n",
    "name = ['kate', 'royce', 'phill']\n",
    "age = [77, 44, 54]\n",
    "\n",
    "# (name, age)\n",
    "for item1, item2 in zip(name, age):\n",
    "    print((item1, item2))"
   ]
  },
  {
   "cell_type": "code",
   "execution_count": 81,
   "id": "0e7a0401-23de-4f05-9772-d25b4c84be36",
   "metadata": {},
   "outputs": [
    {
     "name": "stdout",
     "output_type": "stream",
     "text": [
      "('kate', 77)\n",
      "('kate', 44)\n",
      "('kate', 54)\n",
      "('royce', 77)\n",
      "('royce', 44)\n",
      "('royce', 54)\n",
      "('phill', 77)\n",
      "('phill', 44)\n",
      "('phill', 54)\n"
     ]
    }
   ],
   "source": [
    "for item1 in name:\n",
    "    for item2 in age:\n",
    "        print((item1, item2))"
   ]
  },
  {
   "cell_type": "code",
   "execution_count": 82,
   "id": "c8bddb2d-d2be-4bb2-b11e-ce006f0643e2",
   "metadata": {},
   "outputs": [
    {
     "data": {
      "text/plain": [
       "[('kate', 77), ('royce', 44), ('phill', 54)]"
      ]
     },
     "execution_count": 82,
     "metadata": {},
     "output_type": "execute_result"
    }
   ],
   "source": [
    "list(zip(name, age))"
   ]
  },
  {
   "cell_type": "code",
   "execution_count": 84,
   "id": "673ad030-318b-45b0-ab0b-60558fe4c24e",
   "metadata": {},
   "outputs": [
    {
     "name": "stdout",
     "output_type": "stream",
     "text": [
      "0 kate\n",
      "1 royce\n",
      "2 phill\n"
     ]
    }
   ],
   "source": [
    "# 리스트 + 인덱스 enumerate\n",
    "for idx, item in enumerate(name):\n",
    "    print(idx, item)"
   ]
  },
  {
   "cell_type": "code",
   "execution_count": 85,
   "id": "1245230a-8c95-4c93-9b9e-477a4345a9f2",
   "metadata": {},
   "outputs": [
    {
     "data": {
      "text/plain": [
       "[('kate', 77), ('royce', 44), ('phill', 54)]"
      ]
     },
     "execution_count": 85,
     "metadata": {},
     "output_type": "execute_result"
    }
   ],
   "source": [
    "# 리스트 \n",
    "[word for word in zip(name, age)]"
   ]
  },
  {
   "cell_type": "code",
   "execution_count": 86,
   "id": "d1eac80c-65df-4861-b2f1-7403266a2f75",
   "metadata": {},
   "outputs": [
    {
     "name": "stdout",
     "output_type": "stream",
     "text": [
      "[('kate', 77), ('royce', 44), ('phill', 54)]\n"
     ]
    }
   ],
   "source": [
    "# name, age를 이용해서 새로운 리스트를 생성하는데 (이름, 나이), for문 사용(리, 컴 사용 x)\n",
    "new_list = []\n",
    "for i, j in zip(name, age):\n",
    "    new_list.append((i, j )) #append 사용\n",
    "print(new_list)"
   ]
  },
  {
   "cell_type": "code",
   "execution_count": 88,
   "id": "37bfe4c4-5bb6-413e-aa65-467f5472979a",
   "metadata": {},
   "outputs": [
    {
     "data": {
      "text/plain": [
       "[('kate', 77), ('royce', 44), ('phill', 54)]"
      ]
     },
     "execution_count": 88,
     "metadata": {},
     "output_type": "execute_result"
    }
   ],
   "source": [
    "[(i, j ) for i, j in zip(name, age)]"
   ]
  },
  {
   "cell_type": "code",
   "execution_count": 87,
   "id": "78345ac3-87e5-454a-a59e-512104cbf573",
   "metadata": {
    "collapsed": true,
    "jupyter": {
     "outputs_hidden": true
    },
    "tags": []
   },
   "outputs": [
    {
     "name": "stdout",
     "output_type": "stream",
     "text": [
      "kate 77\n",
      "kate 44\n",
      "kate 54\n",
      "royce 77\n",
      "royce 44\n",
      "royce 54\n",
      "phill 77\n",
      "phill 44\n",
      "phill 54\n"
     ]
    }
   ],
   "source": [
    "#1. for 문의 리.컴으로 바꿔보기\n",
    "for i in name:\n",
    "    for j in age:\n",
    "        print(i,j)"
   ]
  },
  {
   "cell_type": "code",
   "execution_count": 89,
   "id": "7c01bdc8-ca83-4d51-8a53-6bc19c9fecc9",
   "metadata": {},
   "outputs": [
    {
     "data": {
      "text/plain": [
       "[('kate', 77),\n",
       " ('royce', 77),\n",
       " ('phill', 77),\n",
       " ('kate', 44),\n",
       " ('royce', 44),\n",
       " ('phill', 44),\n",
       " ('kate', 54),\n",
       " ('royce', 54),\n",
       " ('phill', 54)]"
      ]
     },
     "execution_count": 89,
     "metadata": {},
     "output_type": "execute_result"
    }
   ],
   "source": [
    "[(i,j) for j in age for i in name]"
   ]
  },
  {
   "cell_type": "code",
   "execution_count": 93,
   "id": "f5b35cb7-9f9d-4236-96d3-d33de6c62c25",
   "metadata": {},
   "outputs": [
    {
     "name": "stdout",
     "output_type": "stream",
     "text": [
      "kate 77\n",
      "kate 44\n",
      "kate 54\n",
      "royce 77\n",
      "royce 44\n",
      "royce 54\n",
      "phill 77\n",
      "phill 44\n",
      "phill 54\n"
     ]
    }
   ],
   "source": [
    "#2. [i, j] 리스트의 리스트로 바꿔보기 (리,컴)\n",
    "output = []\n",
    "for i in name:\n",
    "    empty = []\n",
    "    for j in age:\n",
    "        print(i,j)\n",
    "        empty.append((i,j))\n",
    "    output.append(output)"
   ]
  },
  {
   "cell_type": "code",
   "execution_count": 101,
   "id": "151cb6f3-a262-407c-ba6e-596bd08c71a6",
   "metadata": {},
   "outputs": [
    {
     "data": {
      "text/plain": [
       "[('DO', 'Do', 2),\n",
       " ('NOT', 'Not', 3),\n",
       " ('JUDGE', 'Judge', 5),\n",
       " ('A', 'A', 1),\n",
       " ('BOOK', 'Book', 4),\n",
       " ('BY', 'By', 2),\n",
       " ('ITS', 'Its', 3),\n",
       " ('COVER', 'Cover', 5)]"
      ]
     },
     "execution_count": 101,
     "metadata": {},
     "output_type": "execute_result"
    }
   ],
   "source": [
    "sentence = \"do not judge a book by its cover\"\n",
    "\n",
    "#[(대문자, 첫글자대문자, 글자수),...] 리스트 만들기\n",
    "\n",
    "sentence.split()\n",
    "[(word.upper(), word.title(), len(word)) for word in sentence.split()]"
   ]
  },
  {
   "cell_type": "code",
   "execution_count": 105,
   "id": "4b4d5150-aa53-4597-ac3f-e506bd9bf25f",
   "metadata": {},
   "outputs": [],
   "source": [
    "text = [\n",
    "    ['Sunja', 'said', 'goodnight', 'to', 'her', 'mother'],\n",
    "    ['Hansu', 'was', 'no', 'longer', 'in', 'Busan']\n",
    "]\n",
    "\n",
    "#1. 문장마다 스트링으로 변화해서 리스트로 반환\n",
    "    #['문장1', '문장2']\n",
    "#2. 전체를 스트링으로 반환\n",
    "    #'문장1, 문장2'\n",
    "#3. 전체 단어 리스트 가져오기\n",
    "    # [Sunja, said, goodnight, ...]\n",
    "      "
   ]
  },
  {
   "cell_type": "code",
   "execution_count": 106,
   "id": "570e63d8-0db1-40dd-bafe-8ffb1117fbe0",
   "metadata": {},
   "outputs": [
    {
     "data": {
      "text/plain": [
       "'Sunja said goodnight to her mother Hansu was no longer in Busan'"
      ]
     },
     "execution_count": 106,
     "metadata": {},
     "output_type": "execute_result"
    }
   ],
   "source": [
    "' '.join([' '.join(sent) for sent in text]) #1,2"
   ]
  },
  {
   "cell_type": "code",
   "execution_count": 107,
   "id": "2c8b6069-fca6-43a3-82db-11362bf6cc04",
   "metadata": {},
   "outputs": [
    {
     "data": {
      "text/plain": [
       "['Sunja',\n",
       " 'said',\n",
       " 'goodnight',\n",
       " 'to',\n",
       " 'her',\n",
       " 'mother',\n",
       " 'Hansu',\n",
       " 'was',\n",
       " 'no',\n",
       " 'longer',\n",
       " 'in',\n",
       " 'Busan']"
      ]
     },
     "execution_count": 107,
     "metadata": {},
     "output_type": "execute_result"
    }
   ],
   "source": [
    "[word for sent in text for word in sent] #3"
   ]
  },
  {
   "cell_type": "code",
   "execution_count": 109,
   "id": "132b59e8-734f-4c8a-ab33-aa0d30985550",
   "metadata": {},
   "outputs": [
    {
     "data": {
      "text/plain": [
       "[0, 1, 2, 3, 4, 5, 6, 7, 8, 9]"
      ]
     },
     "execution_count": 109,
     "metadata": {},
     "output_type": "execute_result"
    }
   ],
   "source": [
    "# if문\n",
    "[i for i in range(10)] #짝수 - 가져오고, 홀수 - '홀수'"
   ]
  },
  {
   "cell_type": "code",
   "execution_count": 110,
   "id": "4ad1964f-e2a6-4fc9-9a5a-d075fe369cd7",
   "metadata": {},
   "outputs": [
    {
     "data": {
      "text/plain": [
       "[0, '홀수', 2, '홀수', 4, '홀수', 6, '홀수', 8, '홀수']"
      ]
     },
     "execution_count": 110,
     "metadata": {},
     "output_type": "execute_result"
    }
   ],
   "source": [
    "[i if i%2 == 0 else '홀수' for i in range(10)]"
   ]
  },
  {
   "cell_type": "code",
   "execution_count": null,
   "id": "d1588bff-44a1-4d5d-b54b-5a6defd710d9",
   "metadata": {},
   "outputs": [],
   "source": [
    "#brown 정제하기 - 과제"
   ]
  },
  {
   "cell_type": "code",
   "execution_count": 113,
   "id": "f959a381-8295-4a7c-81e1-a9265e6be66e",
   "metadata": {},
   "outputs": [
    {
     "name": "stderr",
     "output_type": "stream",
     "text": [
      "[nltk_data] Downloading package brown to /Users/chaeha-\n",
      "[nltk_data]     eun/nltk_data...\n",
      "[nltk_data]   Package brown is already up-to-date!\n"
     ]
    }
   ],
   "source": [
    "import nltk\n",
    "nltk.download('brown')\n",
    "brown = nltk.corpus.brown"
   ]
  },
  {
   "cell_type": "code",
   "execution_count": 114,
   "id": "d2d4c41a-9b7c-409c-b124-02889c198004",
   "metadata": {},
   "outputs": [
    {
     "data": {
      "text/plain": [
       "['adventure',\n",
       " 'belles_lettres',\n",
       " 'editorial',\n",
       " 'fiction',\n",
       " 'government',\n",
       " 'hobbies',\n",
       " 'humor',\n",
       " 'learned',\n",
       " 'lore',\n",
       " 'mystery',\n",
       " 'news',\n",
       " 'religion',\n",
       " 'reviews',\n",
       " 'romance',\n",
       " 'science_fiction']"
      ]
     },
     "execution_count": 114,
     "metadata": {},
     "output_type": "execute_result"
    }
   ],
   "source": [
    "brown.categories()"
   ]
  },
  {
   "cell_type": "code",
   "execution_count": 12,
   "id": "46d11d99-aa12-4b1a-b5c0-e44c6863701a",
   "metadata": {},
   "outputs": [
    {
     "data": {
      "text/plain": [
       "'They/ppss'"
      ]
     },
     "execution_count": 12,
     "metadata": {},
     "output_type": "execute_result"
    }
   ],
   "source": [
    "#[['They', 'neither', 'liked' ...], []] 이런 식으로 만들어라.\n",
    "# 문장 분절 -> 단어 분절\n",
    "# 불필요한 것들 제거하기\n",
    "\"\"\"\n",
    "    - 문장부호, POS 제거\n",
    "    - 's, 'nt (she's -> she, 's) (don't -> do, 'nt)\n",
    "    - 'fly-dotted' -> fly, dotted\n",
    "\"\"\"\n",
    "\n",
    "'They/ppss'"
   ]
  },
  {
   "cell_type": "code",
   "execution_count": 14,
   "id": "ebbd4a5d-6354-4c02-94a2-87516b3768aa",
   "metadata": {},
   "outputs": [
    {
     "data": {
      "text/plain": [
       "\"\\n\\n\\tThey/ppss neither/cc liked/vbd nor/cc disliked/vbd the/at Old/jj-tl Man/nn-tl ./.\\nTo/in them/ppo he/pps could/md have/hv been/ben the/at broken/vbn bell/nn in/in the/at church/nn tower/nn which/wdt rang/vbd before/in and/cc after/in Mass/nn-tl ,/, and/cc at/in noon/nn ,/, and/cc at/in six/cd each/dt evening/nn --/-- its/pp$ tone/nn ,/, repetitive/jj ,/, monotonous/jj ,/, never/rb breaking/vbg the/at boredom/nn of/in the/at streets/nns ./.\\nThe/at Old/jj-tl Man/nn-tl was/bedz unimportant/jj ./.\\n\\n\\n\\tYet/rb if/cs he/pps were/bed not/* there/rb ,/, they/ppss would/md have/hv missed/vbn him/ppo ,/, as/cs they/ppss would/md have/hv missed/vbn the/at sounds/nns of/in bees/nns buzzing/vbg against/in the/at screen/nn door/nn in/in early/jj June/np ;/. ;/.\\nor/cc the/at smell/nn of/in thick/jj tomato/nn paste/nn --/-- the/at ripe/jj smell/nn that/wps was/bedz both/abx sweet/jj and/cc sour/jj --/-- rising/vbg up/rp from/in aluminum/nn trays/nns wrapped/vbn in/in fly-dotted/jj cheesecloth/nn ./.\\nOr/cc the/at surging/vbg whirling/vbg sounds/nns of/in bats/nns at/in night/nn ,/, when/wrb their/pp$ black/jj bodies/nns dived/vbd into/in the/at blackness/nn above/in and/cc below/in the/at amber/jj street/nn lights/nns ./.\\nOr/cc the/at bay/nn of/in female/nn dogs/nns in/in heat/nn ./.\\n\\n\\n\\tThey/ppss never/rb called/vbd him/ppo by/in name/nn ,/, although/cs he/pps had/hvd one/pn ./.\\nFilippo/np Rossi/np ,/, that's/dt+bez what/wdt he/pps was/bedz called/vbn in/in the/at old/jj country/nn ;/. ;/.\\nbut/cc here/rb he/pps was/bedz just/rb Signore/np or/cc the/at Old/jj-tl Man/nn-tl ./.\\nBut/cc this/dt was/bedz not/* unusual/jj ,/, because/cs youth/nn in/in these/dts quarters/nns was/bedz always/rb pushed/vbn at/in a/at distance/nn from/in its/pp$ elders/nns ./.\\nYouth/nn obeyed/vbd when/wrb commanded/vbn ./.\\nIt/pps went/vbd to/in church/nn on/in Sunday/nr and/cc one/cd Saturday/nr a/at month/nn went/vbd to/in confession/nn ./.\\nBut/cc youth/nn asked/vbd nothing/pn of/in its/pp$ parents/nns --/-- not/* a/at touch/nn of/in the/at hand/nn or/cc a/at kiss/nn given/vbn in/in passing/vbg ./.\\n\\n\\n\\tThe/at only/ap thing/nn unusual/jj about/in the/at Old/jj-tl Man/nn-tl had/hvd long/jj since/rb happened/vbn ./.\\nBut/cc the/at past/nn was/bedz dead/jj here/rb as/cs the/at present/jj was/bedz dead/jj ./.\\nOnce/cs the/at Old/jj-tl Man/nn-tl had/hvd had/hvn a/at wife/nn ./.\\nAnd/cc once/cs she/pps ,/, too/rb ,/, ignored/vbd him/ppo ./.\\nWith/in a/at tiny/jj fur-piece/nn wrapped/vbd around/in her/pp$ shoulders/nns ,/, she/pps wiggled/vbd her/pp$ satin-covered/jj buttocks/nns down/in the/at street/nn before/in him/ppo and/cc didn't/dod* stop/vb ./.\\nIn/in one/cd hand/nn she/pps clutched/vbd a/at hundred/cd dollar/nn bill/nn and/cc in/in the/at other/ap a/at straw/nn suitcase/nn ./.\\nThe/at way/nn she/pps strutted/vbd down/in the/at street/nn ,/, the/at Old/jj-tl Man/nn-tl would/md have/hv been/ben blind/jj not/* to/to have/hv noticed/vbn both/abx ./.\\nWithout/in looking/vbg at/in him/ppo ,/, without/in looking/vbg at/in anything/pn except/in Drexel/np-tl Street/nn-tl directly/rb in/in front/nn of/in her/ppo ,/, she/pps climbed/vbd up/rp into/in one/cd of/in those/dts orange/jj streetcars/nns ,/, rode/vbd away/rb in/in it/ppo ,/, and/cc never/rb came/vbd back/rb ./.\\n\\n\\n\\t``/`` But/cc she/pps shouldn't/md* have/hv come/vbn here/rb in/in the/at first/od place/nn ''/'' ,/, the/at women/nns had/hvd said/vbn ./.\\n\\n\\n\\t``/`` No/rb ,/, no/rb ./.\\nNot/* that/dt one/pn ./.\\nShe/pps thought/vbd she/pps was/bedz bigger/jjr than/cs we/ppss are/ber because/cs she/pps came/vbd from/in Torino/np ''/'' ./.\\n\\n\\n\\t``/`` Eh/uh ,/, Torino/np !/. !/.\\nShe/pps gave/vbd herself/ppl fancy/jj airs/nns !/. !/.\\nJust/rb because/cs she/pps had/hvd a/at part/nn on/in the/at stage/nn in/in the/at old/jj country/nn ,/, she/pps thought/vbd she/pps could/md carry/vb her/pp$ head/nn higher/rbr than/cs ours/pp$$ ''/'' ./.\\nThey/ppss had/hvd slapped/vbn their/pp$ thighs/nns ./.\\n\\n\\n\\t``/`` It's/pps+bez not/* for/in making/vbg pretty/jj speeches/nns about/in Dante/np those/dts actresses/nns get/vb paid/vbn so/ql good/rb ''/'' ./.\\n\\n\\n\\t``/`` Henh/uh ''/'' !/. !/.\\nCalloused/vbn fingers/nns ,/, caressed/vbn only/rb by/in the/at smoothness/nn of/in polished/vbn rosaries/nns ,/, had/hvd swayed/vbn excitedly/rb beneath/in puckered/vbn chins/nns where/wrb tiny/jj black/jj hairs/nns sprouted/vbd ,/, never/rb to/to be/be tweezed/vbn away/rb ./.\\nMauve-colored/jj mouths/nns that/wps had/hvd never/rb known/vbn anything/pn sweeter/jjr than/cs the/at taste/nn of/in new/jj wine/nn and/cc the/at passion/nn of/in man's/nn$ tongue/nn had/hvd not/* smiled/vbn ,/, but/cc had/hvd condemned/vbn again/rb and/cc again/rb ./.\\n``/`` Puttana/fw-nn ''/'' !/. !/.\\n\\n\\n\\tBut/cc if/cs the/at Old/jj-tl Man/nn-tl even/rb thought/vbd about/in his/pp$ wife/nn now/rb ,/, nobody/pn cared/vbd a/at fig/nn ./.\\nIt/pps was/bedz enough/ap for/in people/nns to/to know/vb that/cs at/in one/cd time/nn he/pps had/hvd looked/vbn down/in the/at street/nn at/in the/at f\""
      ]
     },
     "execution_count": 14,
     "metadata": {},
     "output_type": "execute_result"
    }
   ],
   "source": [
    "brown.raw(categories='romance')[:5000]"
   ]
  },
  {
   "cell_type": "code",
   "execution_count": null,
   "id": "08660836-ae3d-4c0f-a717-f44431bafe07",
   "metadata": {},
   "outputs": [],
   "source": []
  }
 ],
 "metadata": {
  "kernelspec": {
   "display_name": "Python 3 (ipykernel)",
   "language": "python",
   "name": "python3"
  },
  "language_info": {
   "codemirror_mode": {
    "name": "ipython",
    "version": 3
   },
   "file_extension": ".py",
   "mimetype": "text/x-python",
   "name": "python",
   "nbconvert_exporter": "python",
   "pygments_lexer": "ipython3",
   "version": "3.9.7"
  }
 },
 "nbformat": 4,
 "nbformat_minor": 5
}
