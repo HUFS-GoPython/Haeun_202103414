{
 "cells": [
  {
   "cell_type": "markdown",
   "id": "08372e57-db2c-4550-a9d2-8cb46fab9d54",
   "metadata": {},
   "source": [
    "### 객체 II\n",
    "- 상속(inheritance)\n",
    "- 재사용할 때, A vs B\n",
    "    - 'A의 대부분을 쓰고, 나머지를 추가, 변경하고 싶다'\n",
    "    - 부모의 모든 속성을 그대로 가져와서 쓰겠다.\n",
    "- 반복되는 부분을 가져오겠다, 물려받겠다.\n",
    "- A <- B\n",
    "    - \"부모, 슈퍼, 베이스\"\n",
    "    - \"자식, 서브, derived\"\n",
    "- 자식클래스는 부모클래스를 구체화 한다.\n",
    "- is-a 관계: Car is-a Vehicle (포함된다.)\n"
   ]
  },
  {
   "cell_type": "code",
   "execution_count": 1,
   "id": "78df3d78-ecce-41b9-a2a6-cd409ba39c6b",
   "metadata": {},
   "outputs": [],
   "source": [
    "# parent, super\n",
    "class Vehicle:\n",
    "    def __init__(self, speed):\n",
    "        self.speed = speed\n",
    "        \n",
    "    def go(self):\n",
    "        print(f'{self.speed}의 속도로 달린다.')\n",
    "        \n",
    "#child, sub\n",
    "class Car(Vehicle):\n",
    "    pass"
   ]
  },
  {
   "cell_type": "code",
   "execution_count": 5,
   "id": "fcc6a939-617f-49d6-9467-7a5e07ffa50a",
   "metadata": {},
   "outputs": [
    {
     "ename": "TypeError",
     "evalue": "__init__() missing 1 required positional argument: 'speed'",
     "output_type": "error",
     "traceback": [
      "\u001b[0;31m---------------------------------------------------------------------------\u001b[0m",
      "\u001b[0;31mTypeError\u001b[0m                                 Traceback (most recent call last)",
      "\u001b[0;32m/var/folders/hw/1ktzsq7s1w14xc35sfjzdtg80000gn/T/ipykernel_3945/2668827408.py\u001b[0m in \u001b[0;36m<module>\u001b[0;34m\u001b[0m\n\u001b[0;32m----> 1\u001b[0;31m \u001b[0mcar\u001b[0m \u001b[0;34m=\u001b[0m \u001b[0mCar\u001b[0m\u001b[0;34m(\u001b[0m\u001b[0;34m)\u001b[0m\u001b[0;34m\u001b[0m\u001b[0;34m\u001b[0m\u001b[0m\n\u001b[0m",
      "\u001b[0;31mTypeError\u001b[0m: __init__() missing 1 required positional argument: 'speed'"
     ]
    }
   ],
   "source": [
    "car = Car()"
   ]
  },
  {
   "cell_type": "code",
   "execution_count": 4,
   "id": "5b897708-030a-42c0-bd43-4ca1f381c75e",
   "metadata": {},
   "outputs": [
    {
     "name": "stdout",
     "output_type": "stream",
     "text": [
      "20km/h의 속도로 달린다.\n"
     ]
    }
   ],
   "source": [
    "car = Car('20km/h')\n",
    "car.go()"
   ]
  },
  {
   "cell_type": "markdown",
   "id": "c86f2b05-7ed5-45f1-b364-5f9b8dce1933",
   "metadata": {},
   "source": [
    "### 변수 추가, 변경"
   ]
  },
  {
   "cell_type": "code",
   "execution_count": 6,
   "id": "600a366b-c358-4ec1-b68a-cdee0769b7c3",
   "metadata": {},
   "outputs": [],
   "source": [
    "class Car(Vehicle): #child, sub\n",
    "    def __init__(self, speed, brand):\n",
    "        #speed from 부모\n",
    "        super().__init__(speed)\n",
    "        #brand from 자식\n",
    "        self.brand = brand"
   ]
  },
  {
   "cell_type": "code",
   "execution_count": 7,
   "id": "a3359fc2-6d0d-4f4b-b097-93f97ee2221e",
   "metadata": {},
   "outputs": [
    {
     "data": {
      "text/plain": [
       "'kia'"
      ]
     },
     "execution_count": 7,
     "metadata": {},
     "output_type": "execute_result"
    }
   ],
   "source": [
    "car2 = Car('20km/h', 'kia')\n",
    "car2.brand"
   ]
  },
  {
   "cell_type": "code",
   "execution_count": 8,
   "id": "2e5c2338-9079-4722-a39c-77adf0c45f4d",
   "metadata": {},
   "outputs": [
    {
     "ename": "AttributeError",
     "evalue": "'Vehicle' object has no attribute 'brand'",
     "output_type": "error",
     "traceback": [
      "\u001b[0;31m---------------------------------------------------------------------------\u001b[0m",
      "\u001b[0;31mAttributeError\u001b[0m                            Traceback (most recent call last)",
      "\u001b[0;32m/var/folders/hw/1ktzsq7s1w14xc35sfjzdtg80000gn/T/ipykernel_3945/2184005269.py\u001b[0m in \u001b[0;36m<module>\u001b[0;34m\u001b[0m\n\u001b[1;32m      1\u001b[0m \u001b[0mv\u001b[0m \u001b[0;34m=\u001b[0m \u001b[0mVehicle\u001b[0m\u001b[0;34m(\u001b[0m\u001b[0;34m'33km/h'\u001b[0m\u001b[0;34m)\u001b[0m\u001b[0;34m\u001b[0m\u001b[0;34m\u001b[0m\u001b[0m\n\u001b[0;32m----> 2\u001b[0;31m \u001b[0mv\u001b[0m\u001b[0;34m.\u001b[0m\u001b[0mbrand\u001b[0m\u001b[0;34m\u001b[0m\u001b[0;34m\u001b[0m\u001b[0m\n\u001b[0m",
      "\u001b[0;31mAttributeError\u001b[0m: 'Vehicle' object has no attribute 'brand'"
     ]
    }
   ],
   "source": [
    "v = Vehicle('33km/h')\n",
    "v.brand"
   ]
  },
  {
   "cell_type": "markdown",
   "id": "96134fd8-d408-47ec-b639-1e12901c1817",
   "metadata": {},
   "source": [
    "### 메소드 추가, 변경\n",
    "- override하면 부모의 메소드가 잊힌다."
   ]
  },
  {
   "cell_type": "code",
   "execution_count": 9,
   "id": "b805be0e-e72c-4b93-83bf-ba237aeadda1",
   "metadata": {},
   "outputs": [],
   "source": [
    "class Car(Vehicle): \n",
    "    def __init__(self, speed, brand):\n",
    "        super().__init__(speed)\n",
    "        self.brand = brand\n",
    "    #override(재정비)    \n",
    "    def go(self):\n",
    "        # 부모의 go 도 함께 가져가고 싶다면? 밑에 추가하기\n",
    "        super().go()\n",
    "        print(f'차종 {self.brand}의 속도 {self.speed}')\n",
    "        \n",
    "    # 메소드 추가\n",
    "    def stop():\n",
    "        pass"
   ]
  },
  {
   "cell_type": "code",
   "execution_count": 10,
   "id": "b73bc206-8cc4-4671-8d3b-850ad381a4aa",
   "metadata": {},
   "outputs": [
    {
     "name": "stdout",
     "output_type": "stream",
     "text": [
      "33km/h의 속도로 달린다.\n",
      "차종 mini의 속도 33km/h\n"
     ]
    }
   ],
   "source": [
    "car3 = Car('33km/h', 'mini')\n",
    "car3.go()\n"
   ]
  },
  {
   "cell_type": "markdown",
   "id": "d6fff87a-8343-4bc4-9e82-dc3889366eab",
   "metadata": {},
   "source": [
    "### 실습"
   ]
  },
  {
   "cell_type": "code",
   "execution_count": 11,
   "id": "3e454106-20de-4afe-8e48-ec37bb62796e",
   "metadata": {},
   "outputs": [],
   "source": [
    "class Person:\n",
    "    def __init__(self, name):\n",
    "        self.name = name\n",
    "        \n",
    "class Doctor(Person):\n",
    "    def __init__(self, name):\n",
    "        super().__init__(name)\n",
    "    \n",
    "    def info(self):\n",
    "        print(f'Dr.{self.name}')\n",
    "\n",
    "class Male(Person):\n",
    "    def __init__(self, name):\n",
    "        super().__init__(name)\n",
    "    \n",
    "    def info(self):\n",
    "        print(f'Mr.{self.name}')\n",
    "\n",
    "class Female(Person):\n",
    "    def __init__(self, name):\n",
    "        super().__init__(name)\n",
    "    \n",
    "    def info(self):\n",
    "        print(f'Mrs.{self.name}')"
   ]
  },
  {
   "cell_type": "code",
   "execution_count": 12,
   "id": "609c89e8-2e54-496e-b336-ec211680ae96",
   "metadata": {},
   "outputs": [],
   "source": [
    "class Person:\n",
    "    def __init__(self, name):\n",
    "        self.name = name\n",
    "\n",
    "class Doctor(Person):\n",
    "    def __init__(self, name):\n",
    "        super().__init__(f'Dr.{name}')\n",
    "\n",
    "class Male(Person):\n",
    "    def __init__(self, name):\n",
    "        super().__init__(f'Mr.{name}')\n",
    "\n",
    "class Female(Person):\n",
    "    def __init__(self, name):\n",
    "        super().__init__(f'Mrs.{name}')\n"
   ]
  },
  {
   "cell_type": "code",
   "execution_count": 13,
   "id": "dab2db0b-ef6d-4320-8344-9d862f488fbe",
   "metadata": {},
   "outputs": [
    {
     "data": {
      "text/plain": [
       "'Dr.pablo'"
      ]
     },
     "execution_count": 13,
     "metadata": {},
     "output_type": "execute_result"
    }
   ],
   "source": [
    "doctor = Doctor('pablo')\n",
    "doctor.name"
   ]
  },
  {
   "cell_type": "markdown",
   "id": "6aa15b0d-ae6e-44d6-809a-a65a70f510bf",
   "metadata": {},
   "source": [
    "### 다중상속\n",
    "- 여러번 상속을 받을 수도 있는데 그 중 누구와 더 가까운가..\n",
    "- method resolution order (MRO)\n",
    "- Animal <- Horse\n",
    "  <- Donkey\n",
    "          <- Mule(Donkey > Horse)\n",
    "          <- Hinny(Horse > Donkey)\n"
   ]
  },
  {
   "cell_type": "code",
   "execution_count": 14,
   "id": "73975de0-af32-44a2-8fd0-798564e58a13",
   "metadata": {},
   "outputs": [],
   "source": [
    "class Animal: #조부모\n",
    "    def says(self):\n",
    "        return '동물이 운다.'\n",
    "    \n",
    "class Horse(Animal):# 부모\n",
    "    def says(self):\n",
    "        return '히히힝'\n",
    "\n",
    "class Donkey(Animal):# 부모\n",
    "    def says(self):\n",
    "        return '히이호'\n",
    "    \n",
    "class Mule(Donkey, Horse): #자식 Donkey에 더 가까움\n",
    "    pass\n",
    "\n",
    "class Hinny(Horse, Donkey): #자식 Horse 에 더 가까움\n",
    "    pass"
   ]
  },
  {
   "cell_type": "code",
   "execution_count": 15,
   "id": "1a7204a1-c4d2-4221-86be-07beb48b29dd",
   "metadata": {},
   "outputs": [
    {
     "data": {
      "text/plain": [
       "'히이호'"
      ]
     },
     "execution_count": 15,
     "metadata": {},
     "output_type": "execute_result"
    }
   ],
   "source": [
    "m = Mule()\n",
    "m.says() #Donkey에 더 가까우므로 Donkey처럼 말한다\n"
   ]
  },
  {
   "cell_type": "code",
   "execution_count": 16,
   "id": "6f45130e-9a8e-413f-a0c5-d8fa5e8819ec",
   "metadata": {},
   "outputs": [
    {
     "data": {
      "text/plain": [
       "'히히힝'"
      ]
     },
     "execution_count": 16,
     "metadata": {},
     "output_type": "execute_result"
    }
   ],
   "source": [
    "Hinny().says() # 그 반대"
   ]
  },
  {
   "cell_type": "code",
   "execution_count": 17,
   "id": "17db0592-5897-4e8e-afb6-488a4eb3b1f7",
   "metadata": {},
   "outputs": [
    {
     "data": {
      "text/plain": [
       "[__main__.Mule, __main__.Donkey, __main__.Horse, __main__.Animal, object]"
      ]
     },
     "execution_count": 17,
     "metadata": {},
     "output_type": "execute_result"
    }
   ],
   "source": [
    "Mule.mro() #순서 출력\n"
   ]
  },
  {
   "cell_type": "markdown",
   "id": "887bd254-c38d-41c9-ba33-2e3283e89a80",
   "metadata": {},
   "source": [
    "### 다형성\n",
    "- 형태는 다른데 기능은 똑같음\n",
    "- 같은 메소드 가지고 있으면 기능 수행"
   ]
  },
  {
   "cell_type": "code",
   "execution_count": 18,
   "id": "3fa2ac3d-7ef5-4047-a025-e27d5d020d43",
   "metadata": {},
   "outputs": [
    {
     "name": "stdout",
     "output_type": "stream",
     "text": [
      "히이호\n",
      "히이호\n",
      "동물이 운다.\n"
     ]
    }
   ],
   "source": [
    "for animal in [Mule(),Donkey(), Animal()]:\n",
    "    print(animal.says())"
   ]
  },
  {
   "cell_type": "markdown",
   "id": "096928bd-5f88-49f4-980b-950cbfeb38a5",
   "metadata": {},
   "source": [
    "### 메서드 타입\n",
    "- 인스턴스 메서드\n",
    "    - self가 1번 인자\n",
    "    - 객체 생성 -> 사용 가능\n",
    "- 클래스 메서드\n",
    "    - 객체 생성하지 않아도 사용 가능\n",
    "    - 클래스에 접근하는 메서드\n",
    "    - @classmethod\n",
    "    - 예약어 : cls\n",
    "    - 함수가 첫 인자\n",
    "    - class Person, cls -> Person\n",
    "- 정적 메서드\n",
    "    - 객체 생성하지 않고 접근 가능\n",
    "    - 클래스랑 전혀 상관이 없기 때문에 접근 가능한 것\n",
    "    - 내용, 기능이 비슷해서 클래스 내에 묶어 둠\n",
    "- 추상 메서드\n",
    "    - 추상 클래스 : abstract 이름만 존재하는 클래스\n",
    "    - 설계도 역할:\n",
    "    - 상속하는 자식 클래스 -> 반드시 구현해야 하는 메소드르 정의한다\n"
   ]
  },
  {
   "cell_type": "code",
   "execution_count": null,
   "id": "223d96e2-4f54-403d-ac96-a287431029f4",
   "metadata": {},
   "outputs": [],
   "source": []
  },
  {
   "cell_type": "code",
   "execution_count": null,
   "id": "d473d54f-6c15-4242-b572-6d1da951f5b2",
   "metadata": {},
   "outputs": [],
   "source": []
  },
  {
   "cell_type": "code",
   "execution_count": null,
   "id": "9f802438-8487-4254-b934-a0156c4a3477",
   "metadata": {},
   "outputs": [],
   "source": []
  },
  {
   "cell_type": "code",
   "execution_count": null,
   "id": "1bd82a47-edd5-45e9-8409-04c9d9e1ad33",
   "metadata": {},
   "outputs": [],
   "source": []
  },
  {
   "cell_type": "code",
   "execution_count": null,
   "id": "32da2640-ee38-4b7d-9b5a-7f8c9d7cd118",
   "metadata": {},
   "outputs": [],
   "source": []
  },
  {
   "cell_type": "code",
   "execution_count": null,
   "id": "5a0cfa52-76f3-4c96-a963-305ee63f4f8a",
   "metadata": {},
   "outputs": [],
   "source": []
  },
  {
   "cell_type": "code",
   "execution_count": null,
   "id": "084a1cb8-0541-4bf1-ae56-6e14e543b970",
   "metadata": {},
   "outputs": [],
   "source": []
  },
  {
   "cell_type": "code",
   "execution_count": null,
   "id": "74f07245-bf01-46f2-9f16-292664439e31",
   "metadata": {},
   "outputs": [],
   "source": []
  },
  {
   "cell_type": "code",
   "execution_count": null,
   "id": "d3510627-3e02-49ca-a9d4-70385b3b6b75",
   "metadata": {},
   "outputs": [],
   "source": []
  },
  {
   "cell_type": "code",
   "execution_count": null,
   "id": "7cad0626-f067-4374-946a-b3b4fcf78f06",
   "metadata": {},
   "outputs": [],
   "source": []
  },
  {
   "cell_type": "code",
   "execution_count": null,
   "id": "e697eccc-b77a-4dfa-9fd4-ffe5ead0e82a",
   "metadata": {},
   "outputs": [],
   "source": []
  },
  {
   "cell_type": "code",
   "execution_count": null,
   "id": "57e7794d-3ef6-48f5-a89f-504591bbf52a",
   "metadata": {},
   "outputs": [],
   "source": []
  },
  {
   "cell_type": "code",
   "execution_count": null,
   "id": "ae2e8c6b-2792-4286-916e-93bc22c528e1",
   "metadata": {},
   "outputs": [],
   "source": []
  },
  {
   "cell_type": "code",
   "execution_count": null,
   "id": "5b0315c4-65a2-4f4c-a664-2e30f89750f0",
   "metadata": {},
   "outputs": [],
   "source": []
  },
  {
   "cell_type": "code",
   "execution_count": null,
   "id": "ceae64ba-62d3-4dfc-a771-03bda343045c",
   "metadata": {},
   "outputs": [],
   "source": []
  }
 ],
 "metadata": {
  "kernelspec": {
   "display_name": "Python 3 (ipykernel)",
   "language": "python",
   "name": "python3"
  },
  "language_info": {
   "codemirror_mode": {
    "name": "ipython",
    "version": 3
   },
   "file_extension": ".py",
   "mimetype": "text/x-python",
   "name": "python",
   "nbconvert_exporter": "python",
   "pygments_lexer": "ipython3",
   "version": "3.9.7"
  }
 },
 "nbformat": 4,
 "nbformat_minor": 5
}
